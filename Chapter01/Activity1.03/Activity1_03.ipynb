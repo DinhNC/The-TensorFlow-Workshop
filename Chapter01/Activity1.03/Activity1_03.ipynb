{
  "nbformat": 4,
  "nbformat_minor": 0,
  "metadata": {
    "kernelspec": {
      "display_name": "tf2.1",
      "language": "python",
      "name": "tf2.1"
    },
    "language_info": {
      "codemirror_mode": {
        "name": "ipython",
        "version": 3
      },
      "file_extension": ".py",
      "mimetype": "text/x-python",
      "name": "python",
      "nbconvert_exporter": "python",
      "pygments_lexer": "ipython3",
      "version": "3.7.2"
    },
    "colab": {
      "name": "Activity1_03.ipynb",
      "provenance": []
    }
  },
  "cells": [
    {
      "cell_type": "markdown",
      "metadata": {
        "id": "OEzVyOR9D5qG",
        "colab_type": "text"
      },
      "source": [
        "# Activity 1.03\n",
        "## Matrix Multiplication\n",
        "\n",
        "Create 2 3 x 3 matrices and matrix multiply the first by the second"
      ]
    },
    {
      "cell_type": "code",
      "metadata": {
        "id": "Iyaix7cfD5qI",
        "colab_type": "code",
        "colab": {}
      },
      "source": [
        "import tensorflow as tf"
      ],
      "execution_count": 0,
      "outputs": []
    },
    {
      "cell_type": "code",
      "metadata": {
        "id": "EgFZ_oTwD5qM",
        "colab_type": "code",
        "colab": {
          "base_uri": "https://localhost:8080/",
          "height": 85
        },
        "outputId": "e77fcabf-c341-408c-a1cb-d37a0cf25c85"
      },
      "source": [
        "matrix1 = tf.Variable([[1,2,3], [4,5,6], [7,8,9]])\n",
        "matrix1"
      ],
      "execution_count": 3,
      "outputs": [
        {
          "output_type": "execute_result",
          "data": {
            "text/plain": [
              "<tf.Variable 'Variable:0' shape=(3, 3) dtype=int32, numpy=\n",
              "array([[1, 2, 3],\n",
              "       [4, 5, 6],\n",
              "       [7, 8, 9]], dtype=int32)>"
            ]
          },
          "metadata": {
            "tags": []
          },
          "execution_count": 3
        }
      ]
    },
    {
      "cell_type": "code",
      "metadata": {
        "id": "OvFHySJsD5qS",
        "colab_type": "code",
        "colab": {
          "base_uri": "https://localhost:8080/",
          "height": 85
        },
        "outputId": "69c1997e-02dd-4a55-b667-f40f70e0c639"
      },
      "source": [
        "matrix2 = tf.Variable([[6,2,6], [-2,4,0], [-4,2,-8]])\n",
        "matrix2"
      ],
      "execution_count": 4,
      "outputs": [
        {
          "output_type": "execute_result",
          "data": {
            "text/plain": [
              "<tf.Variable 'Variable:0' shape=(3, 3) dtype=int32, numpy=\n",
              "array([[ 6,  2,  6],\n",
              "       [-2,  4,  0],\n",
              "       [-4,  2, -8]], dtype=int32)>"
            ]
          },
          "metadata": {
            "tags": []
          },
          "execution_count": 4
        }
      ]
    },
    {
      "cell_type": "code",
      "metadata": {
        "id": "xtNNk9CvD5qV",
        "colab_type": "code",
        "colab": {
          "base_uri": "https://localhost:8080/",
          "height": 85
        },
        "outputId": "d9cb0036-b082-4395-9c00-c308ded72c99"
      },
      "source": [
        "matmul1 = tf.matmul(matrix1, matrix2)\n",
        "matmul1"
      ],
      "execution_count": 5,
      "outputs": [
        {
          "output_type": "execute_result",
          "data": {
            "text/plain": [
              "<tf.Tensor: shape=(3, 3), dtype=int32, numpy=\n",
              "array([[-10,  16, -18],\n",
              "       [-10,  40, -24],\n",
              "       [-10,  64, -30]], dtype=int32)>"
            ]
          },
          "metadata": {
            "tags": []
          },
          "execution_count": 5
        }
      ]
    },
    {
      "cell_type": "markdown",
      "metadata": {
        "id": "-o86iWBMD5qc",
        "colab_type": "text"
      },
      "source": [
        "Create 2 tensors with shape 3 x 2 x 2"
      ]
    },
    {
      "cell_type": "code",
      "metadata": {
        "id": "moHjQzX7D5qd",
        "colab_type": "code",
        "colab": {}
      },
      "source": [
        "tensor1 = tf.Variable([[[2,1], [2, 1]], [[2,1],[2,1]], [[2,1],[2,1]]])\n",
        "tensor2 = tf.Variable([[[-3,7], [4, 5]], [[-10,2],[-3,3]], [[2,2],[0,-1]]])\n"
      ],
      "execution_count": 0,
      "outputs": []
    },
    {
      "cell_type": "markdown",
      "metadata": {
        "id": "5Q6iAzv9D5qg",
        "colab_type": "text"
      },
      "source": [
        "Matrix multiply the two tensors together"
      ]
    },
    {
      "cell_type": "code",
      "metadata": {
        "id": "TI9GBn0jD5qg",
        "colab_type": "code",
        "colab": {
          "base_uri": "https://localhost:8080/",
          "height": 170
        },
        "outputId": "fa5e9d44-30ff-471d-ba90-44e99c9ca351"
      },
      "source": [
        "matmul2 = tf.matmul(tensor1, tensor2)\n",
        "matmul2"
      ],
      "execution_count": 10,
      "outputs": [
        {
          "output_type": "execute_result",
          "data": {
            "text/plain": [
              "<tf.Tensor: shape=(3, 2, 2), dtype=int32, numpy=\n",
              "array([[[ -2,  19],\n",
              "        [ -2,  19]],\n",
              "\n",
              "       [[-23,   7],\n",
              "        [-23,   7]],\n",
              "\n",
              "       [[  4,   3],\n",
              "        [  4,   3]]], dtype=int32)>"
            ]
          },
          "metadata": {
            "tags": []
          },
          "execution_count": 10
        }
      ]
    },
    {
      "cell_type": "code",
      "metadata": {
        "id": "o5knD7E2D5ql",
        "colab_type": "code",
        "colab": {
          "base_uri": "https://localhost:8080/",
          "height": 34
        },
        "outputId": "f791899e-1547-4f32-d613-2da7db8a44fd"
      },
      "source": [
        "matmul2.shape.as_list()"
      ],
      "execution_count": 11,
      "outputs": [
        {
          "output_type": "execute_result",
          "data": {
            "text/plain": [
              "[3, 2, 2]"
            ]
          },
          "metadata": {
            "tags": []
          },
          "execution_count": 11
        }
      ]
    }
  ]
}