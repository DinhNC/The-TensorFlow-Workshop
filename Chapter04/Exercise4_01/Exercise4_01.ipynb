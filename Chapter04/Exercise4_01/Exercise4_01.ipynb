{
 "cells": [
  {
   "cell_type": "markdown",
   "metadata": {},
   "source": [
    "# Exercise 4.01"
   ]
  },
  {
   "cell_type": "code",
   "execution_count": 1,
   "metadata": {},
   "outputs": [],
   "source": [
    "import tensorflow as tf\n",
    "from tensorflow.python.framework import random_seed\n",
    "random_seed.set_seed(42)"
   ]
  },
  {
   "cell_type": "code",
   "execution_count": 2,
   "metadata": {},
   "outputs": [],
   "source": [
    "model = tf.keras.Sequential()"
   ]
  },
  {
   "cell_type": "code",
   "execution_count": 3,
   "metadata": {},
   "outputs": [],
   "source": [
    "model.add(tf.keras.layers.InputLayer(input_shape=(8,), name='Input_layer'))\n",
    "model.add(tf.keras.layers.Dense(4, activation='relu', name='Hidden_layer'))\n",
    "model.add(tf.keras.layers.Dense(1, name='Output_layer'))"
   ]
  },
  {
   "cell_type": "code",
   "execution_count": 4,
   "metadata": {},
   "outputs": [
    {
     "data": {
      "text/plain": [
       "[<tf.Variable 'Hidden_layer/kernel:0' shape=(8, 4) dtype=float32, numpy=\n",
       " array([[ 0.23272598, -0.08342904, -0.20805556, -0.05022925],\n",
       "        [-0.65950376,  0.26116616,  0.33957738,  0.52671605],\n",
       "        [-0.387033  , -0.39145875, -0.26815173,  0.3144303 ],\n",
       "        [-0.5187517 ,  0.0679726 ,  0.1055128 ,  0.5652378 ],\n",
       "        [-0.69372314,  0.03002477,  0.19027466, -0.425214  ],\n",
       "        [ 0.32445234,  0.06481981, -0.5549861 ,  0.2499001 ],\n",
       "        [ 0.2266649 , -0.23058692,  0.14342624, -0.40923697],\n",
       "        [ 0.49884576, -0.08397353,  0.63431376, -0.37119436]],\n",
       "       dtype=float32)>,\n",
       " <tf.Variable 'Hidden_layer/bias:0' shape=(4,) dtype=float32, numpy=array([0., 0., 0., 0.], dtype=float32)>,\n",
       " <tf.Variable 'Output_layer/kernel:0' shape=(4, 1) dtype=float32, numpy=\n",
       " array([[ 0.4116491 ],\n",
       "        [-0.03400517],\n",
       "        [ 0.94426155],\n",
       "        [-0.5429311 ]], dtype=float32)>,\n",
       " <tf.Variable 'Output_layer/bias:0' shape=(1,) dtype=float32, numpy=array([0.], dtype=float32)>]"
      ]
     },
     "execution_count": 4,
     "metadata": {},
     "output_type": "execute_result"
    }
   ],
   "source": [
    "model.variables"
   ]
  },
  {
   "cell_type": "code",
   "execution_count": 5,
   "metadata": {},
   "outputs": [],
   "source": [
    "data = tf.random.normal((32,8))"
   ]
  },
  {
   "cell_type": "code",
   "execution_count": 6,
   "metadata": {},
   "outputs": [
    {
     "data": {
      "text/plain": [
       "array([[ 1.3631216 ],\n",
       "       [ 0.        ],\n",
       "       [ 1.2020777 ],\n",
       "       [ 1.6465328 ],\n",
       "       [ 1.0614607 ],\n",
       "       [ 0.        ],\n",
       "       [ 0.56806594],\n",
       "       [ 1.3524766 ],\n",
       "       [ 0.48797646],\n",
       "       [ 2.2744834 ],\n",
       "       [-0.00594931],\n",
       "       [ 1.6033156 ],\n",
       "       [ 2.4203465 ],\n",
       "       [-0.7845831 ],\n",
       "       [ 0.        ],\n",
       "       [-0.01533174],\n",
       "       [-0.11469087],\n",
       "       [ 0.40171936],\n",
       "       [ 0.15567245],\n",
       "       [-0.6729224 ],\n",
       "       [ 0.30236   ],\n",
       "       [ 1.1654029 ],\n",
       "       [-0.51089466],\n",
       "       [ 1.4327216 ],\n",
       "       [ 0.1439977 ],\n",
       "       [ 1.0886748 ],\n",
       "       [-1.2347256 ],\n",
       "       [ 1.3302152 ],\n",
       "       [-0.13363513],\n",
       "       [ 0.10070556],\n",
       "       [-0.8036719 ],\n",
       "       [-0.92067367]], dtype=float32)"
      ]
     },
     "execution_count": 6,
     "metadata": {},
     "output_type": "execute_result"
    }
   ],
   "source": [
    "prediction = model.predict(data)\n",
    "prediction"
   ]
  }
 ],
 "metadata": {
  "kernelspec": {
   "display_name": "py3.7",
   "language": "python",
   "name": "py3.7"
  },
  "language_info": {
   "codemirror_mode": {
    "name": "ipython",
    "version": 3
   },
   "file_extension": ".py",
   "mimetype": "text/x-python",
   "name": "python",
   "nbconvert_exporter": "python",
   "pygments_lexer": "ipython3",
   "version": "3.7.2"
  }
 },
 "nbformat": 4,
 "nbformat_minor": 2
}
