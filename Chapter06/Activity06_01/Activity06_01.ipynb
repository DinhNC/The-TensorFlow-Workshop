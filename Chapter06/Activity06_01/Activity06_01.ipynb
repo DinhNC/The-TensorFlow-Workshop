{
  "nbformat": 4,
  "nbformat_minor": 0,
  "metadata": {
    "colab": {
      "name": "Activity06_01.ipynb",
      "provenance": [],
      "collapsed_sections": []
    },
    "kernelspec": {
      "name": "python3",
      "display_name": "Python 3"
    }
  },
  "cells": [
    {
      "cell_type": "code",
      "metadata": {
        "id": "Uf630aTfG4fB",
        "colab_type": "code",
        "colab": {}
      },
      "source": [
        "import pandas as pd"
      ],
      "execution_count": 0,
      "outputs": []
    },
    {
      "cell_type": "code",
      "metadata": {
        "id": "QkL0GDpKMfJK",
        "colab_type": "code",
        "colab": {}
      },
      "source": [
        "usecols = ['AAGE','ADTIND','ADTOCC','SEOTR','WKSWORK', 'PTOTVAL']"
      ],
      "execution_count": 0,
      "outputs": []
    },
    {
      "cell_type": "code",
      "metadata": {
        "id": "9UTKnuyMG4iF",
        "colab_type": "code",
        "colab": {}
      },
      "source": [
        "train_url = 'https://github.com/PacktWorkshops/The-TensorFlow-Workshop/blob/master/Chapter06/dataset/census-income-train.csv?raw=true'"
      ],
      "execution_count": 0,
      "outputs": []
    },
    {
      "cell_type": "code",
      "metadata": {
        "id": "b7Z2bZNWI5IH",
        "colab_type": "code",
        "outputId": "934f9c6b-7668-409a-ed31-a8eb4292c1e9",
        "colab": {
          "base_uri": "https://localhost:8080/",
          "height": 204
        }
      },
      "source": [
        "train_data = pd.read_csv(train_url, usecols=usecols)\n",
        "train_data.head()"
      ],
      "execution_count": 0,
      "outputs": [
        {
          "output_type": "execute_result",
          "data": {
            "text/html": [
              "<div>\n",
              "<style scoped>\n",
              "    .dataframe tbody tr th:only-of-type {\n",
              "        vertical-align: middle;\n",
              "    }\n",
              "\n",
              "    .dataframe tbody tr th {\n",
              "        vertical-align: top;\n",
              "    }\n",
              "\n",
              "    .dataframe thead th {\n",
              "        text-align: right;\n",
              "    }\n",
              "</style>\n",
              "<table border=\"1\" class=\"dataframe\">\n",
              "  <thead>\n",
              "    <tr style=\"text-align: right;\">\n",
              "      <th></th>\n",
              "      <th>AAGE</th>\n",
              "      <th>ADTIND</th>\n",
              "      <th>ADTOCC</th>\n",
              "      <th>SEOTR</th>\n",
              "      <th>WKSWORK</th>\n",
              "      <th>PTOTVAL</th>\n",
              "    </tr>\n",
              "  </thead>\n",
              "  <tbody>\n",
              "    <tr>\n",
              "      <th>0</th>\n",
              "      <td>73</td>\n",
              "      <td>0</td>\n",
              "      <td>0</td>\n",
              "      <td>0</td>\n",
              "      <td>0</td>\n",
              "      <td>1700.09</td>\n",
              "    </tr>\n",
              "    <tr>\n",
              "      <th>1</th>\n",
              "      <td>58</td>\n",
              "      <td>4</td>\n",
              "      <td>34</td>\n",
              "      <td>0</td>\n",
              "      <td>52</td>\n",
              "      <td>1053.55</td>\n",
              "    </tr>\n",
              "    <tr>\n",
              "      <th>2</th>\n",
              "      <td>18</td>\n",
              "      <td>0</td>\n",
              "      <td>0</td>\n",
              "      <td>0</td>\n",
              "      <td>0</td>\n",
              "      <td>991.95</td>\n",
              "    </tr>\n",
              "    <tr>\n",
              "      <th>3</th>\n",
              "      <td>9</td>\n",
              "      <td>0</td>\n",
              "      <td>0</td>\n",
              "      <td>0</td>\n",
              "      <td>0</td>\n",
              "      <td>1758.14</td>\n",
              "    </tr>\n",
              "    <tr>\n",
              "      <th>4</th>\n",
              "      <td>10</td>\n",
              "      <td>0</td>\n",
              "      <td>0</td>\n",
              "      <td>0</td>\n",
              "      <td>0</td>\n",
              "      <td>1069.16</td>\n",
              "    </tr>\n",
              "  </tbody>\n",
              "</table>\n",
              "</div>"
            ],
            "text/plain": [
              "   AAGE  ADTIND  ADTOCC  SEOTR  WKSWORK  PTOTVAL\n",
              "0    73       0       0      0        0  1700.09\n",
              "1    58       4      34      0       52  1053.55\n",
              "2    18       0       0      0        0   991.95\n",
              "3     9       0       0      0        0  1758.14\n",
              "4    10       0       0      0        0  1069.16"
            ]
          },
          "metadata": {
            "tags": []
          },
          "execution_count": 11
        }
      ]
    },
    {
      "cell_type": "code",
      "metadata": {
        "id": "yjnRlBdgqtv_",
        "colab_type": "code",
        "colab": {}
      },
      "source": [
        "train_target = train_data.pop('PTOTVAL')"
      ],
      "execution_count": 0,
      "outputs": []
    },
    {
      "cell_type": "code",
      "metadata": {
        "id": "KLCXdV1e8l1Y",
        "colab_type": "code",
        "colab": {}
      },
      "source": [
        "test_url = 'https://github.com/PacktWorkshops/The-TensorFlow-Workshop/blob/master/Chapter06/dataset/census-income-test.csv?raw=true'"
      ],
      "execution_count": 0,
      "outputs": []
    },
    {
      "cell_type": "code",
      "metadata": {
        "id": "PFDO5ktb8l3t",
        "colab_type": "code",
        "outputId": "c6808880-5e61-4806-bb4c-93a5d42db736",
        "colab": {
          "base_uri": "https://localhost:8080/",
          "height": 204
        }
      },
      "source": [
        "test_data = pd.read_csv(test_url, usecols=usecols)\n",
        "test_data.head()"
      ],
      "execution_count": 0,
      "outputs": [
        {
          "output_type": "execute_result",
          "data": {
            "text/html": [
              "<div>\n",
              "<style scoped>\n",
              "    .dataframe tbody tr th:only-of-type {\n",
              "        vertical-align: middle;\n",
              "    }\n",
              "\n",
              "    .dataframe tbody tr th {\n",
              "        vertical-align: top;\n",
              "    }\n",
              "\n",
              "    .dataframe thead th {\n",
              "        text-align: right;\n",
              "    }\n",
              "</style>\n",
              "<table border=\"1\" class=\"dataframe\">\n",
              "  <thead>\n",
              "    <tr style=\"text-align: right;\">\n",
              "      <th></th>\n",
              "      <th>AAGE</th>\n",
              "      <th>ADTIND</th>\n",
              "      <th>ADTOCC</th>\n",
              "      <th>SEOTR</th>\n",
              "      <th>WKSWORK</th>\n",
              "      <th>PTOTVAL</th>\n",
              "    </tr>\n",
              "  </thead>\n",
              "  <tbody>\n",
              "    <tr>\n",
              "      <th>0</th>\n",
              "      <td>38</td>\n",
              "      <td>6</td>\n",
              "      <td>36</td>\n",
              "      <td>0</td>\n",
              "      <td>12</td>\n",
              "      <td>1032.38</td>\n",
              "    </tr>\n",
              "    <tr>\n",
              "      <th>1</th>\n",
              "      <td>44</td>\n",
              "      <td>37</td>\n",
              "      <td>12</td>\n",
              "      <td>0</td>\n",
              "      <td>26</td>\n",
              "      <td>1462.33</td>\n",
              "    </tr>\n",
              "    <tr>\n",
              "      <th>2</th>\n",
              "      <td>2</td>\n",
              "      <td>0</td>\n",
              "      <td>0</td>\n",
              "      <td>0</td>\n",
              "      <td>0</td>\n",
              "      <td>1601.75</td>\n",
              "    </tr>\n",
              "    <tr>\n",
              "      <th>3</th>\n",
              "      <td>35</td>\n",
              "      <td>29</td>\n",
              "      <td>3</td>\n",
              "      <td>2</td>\n",
              "      <td>52</td>\n",
              "      <td>1866.88</td>\n",
              "    </tr>\n",
              "    <tr>\n",
              "      <th>4</th>\n",
              "      <td>49</td>\n",
              "      <td>4</td>\n",
              "      <td>34</td>\n",
              "      <td>0</td>\n",
              "      <td>50</td>\n",
              "      <td>1394.54</td>\n",
              "    </tr>\n",
              "  </tbody>\n",
              "</table>\n",
              "</div>"
            ],
            "text/plain": [
              "   AAGE  ADTIND  ADTOCC  SEOTR  WKSWORK  PTOTVAL\n",
              "0    38       6      36      0       12  1032.38\n",
              "1    44      37      12      0       26  1462.33\n",
              "2     2       0       0      0        0  1601.75\n",
              "3    35      29       3      2       52  1866.88\n",
              "4    49       4      34      0       50  1394.54"
            ]
          },
          "metadata": {
            "tags": []
          },
          "execution_count": 14
        }
      ]
    },
    {
      "cell_type": "code",
      "metadata": {
        "id": "3keLConzqsmT",
        "colab_type": "code",
        "colab": {}
      },
      "source": [
        "test_target = test_data.pop('PTOTVAL')"
      ],
      "execution_count": 0,
      "outputs": []
    },
    {
      "cell_type": "code",
      "metadata": {
        "id": "HmqzSRA2JUPn",
        "colab_type": "code",
        "colab": {}
      },
      "source": [
        "import tensorflow as tf\n",
        "from tensorflow.keras.layers import Dense"
      ],
      "execution_count": 0,
      "outputs": []
    },
    {
      "cell_type": "code",
      "metadata": {
        "id": "QQIO-yFFJjCF",
        "colab_type": "code",
        "colab": {}
      },
      "source": [
        "tf.random.set_seed(8)"
      ],
      "execution_count": 0,
      "outputs": []
    },
    {
      "cell_type": "code",
      "metadata": {
        "id": "Y2grB3hVJWp6",
        "colab_type": "code",
        "colab": {}
      },
      "source": [
        "model = tf.keras.Sequential()"
      ],
      "execution_count": 0,
      "outputs": []
    },
    {
      "cell_type": "code",
      "metadata": {
        "id": "X6FWoSW9Jykf",
        "colab_type": "code",
        "colab": {}
      },
      "source": [
        "fc1 = Dense(1048, input_shape=(5,), activation='relu')"
      ],
      "execution_count": 0,
      "outputs": []
    },
    {
      "cell_type": "code",
      "metadata": {
        "id": "whwQ7LpvJ_T4",
        "colab_type": "code",
        "colab": {}
      },
      "source": [
        "fc2 = Dense(512, activation='relu')\n",
        "fc3 = Dense(128, activation='relu')\n",
        "fc4 = Dense(64, activation='relu')"
      ],
      "execution_count": 0,
      "outputs": []
    },
    {
      "cell_type": "code",
      "metadata": {
        "id": "6XvUYzZFJ_nh",
        "colab_type": "code",
        "colab": {}
      },
      "source": [
        "fc5 = Dense(1)"
      ],
      "execution_count": 0,
      "outputs": []
    },
    {
      "cell_type": "code",
      "metadata": {
        "id": "tlKy5d30KJ40",
        "colab_type": "code",
        "colab": {}
      },
      "source": [
        "model.add(fc1)\n",
        "model.add(fc2)\n",
        "model.add(fc3)\n",
        "model.add(fc4)\n",
        "model.add(fc5)"
      ],
      "execution_count": 0,
      "outputs": []
    },
    {
      "cell_type": "code",
      "metadata": {
        "id": "5Zqh9c_jKOmB",
        "colab_type": "code",
        "outputId": "9bb28626-9b10-477d-d334-33a47affb754",
        "colab": {
          "base_uri": "https://localhost:8080/",
          "height": 323
        }
      },
      "source": [
        "model.summary()"
      ],
      "execution_count": 0,
      "outputs": [
        {
          "output_type": "stream",
          "text": [
            "Model: \"sequential_22\"\n",
            "_________________________________________________________________\n",
            "Layer (type)                 Output Shape              Param #   \n",
            "=================================================================\n",
            "dense_112 (Dense)            (None, 1048)              6288      \n",
            "_________________________________________________________________\n",
            "dense_113 (Dense)            (None, 512)               537088    \n",
            "_________________________________________________________________\n",
            "dense_114 (Dense)            (None, 128)               65664     \n",
            "_________________________________________________________________\n",
            "dense_115 (Dense)            (None, 64)                8256      \n",
            "_________________________________________________________________\n",
            "dense_116 (Dense)            (None, 1)                 65        \n",
            "=================================================================\n",
            "Total params: 617,361\n",
            "Trainable params: 617,361\n",
            "Non-trainable params: 0\n",
            "_________________________________________________________________\n"
          ],
          "name": "stdout"
        }
      ]
    },
    {
      "cell_type": "code",
      "metadata": {
        "id": "P6jKCl9mNCld",
        "colab_type": "code",
        "colab": {}
      },
      "source": [
        "optimizer = tf.keras.optimizers.Adam(0.05)"
      ],
      "execution_count": 0,
      "outputs": []
    },
    {
      "cell_type": "code",
      "metadata": {
        "id": "IPz1teIGKZQw",
        "colab_type": "code",
        "colab": {}
      },
      "source": [
        "model.compile(optimizer=optimizer, loss='mse', metrics=['mse'])"
      ],
      "execution_count": 0,
      "outputs": []
    },
    {
      "cell_type": "code",
      "metadata": {
        "id": "8s1dnVl4K1Ns",
        "colab_type": "code",
        "outputId": "1d477c91-dec7-4cdd-ef4a-14f2304dba7a",
        "colab": {
          "base_uri": "https://localhost:8080/",
          "height": 204
        }
      },
      "source": [
        "model.fit(train_data, train_target, epochs=5, validation_split=0.2)"
      ],
      "execution_count": 0,
      "outputs": [
        {
          "output_type": "stream",
          "text": [
            "Epoch 1/5\n",
            "4989/4989 [==============================] - 37s 7ms/step - loss: 1074842.6250 - mse: 1074842.6250 - val_loss: 963379.5000 - val_mse: 963379.5000\n",
            "Epoch 2/5\n",
            "4989/4989 [==============================] - 37s 7ms/step - loss: 1007203.2500 - mse: 1007203.2500 - val_loss: 960593.1250 - val_mse: 960593.1250\n",
            "Epoch 3/5\n",
            "4989/4989 [==============================] - 38s 8ms/step - loss: 1006884.9375 - mse: 1006884.9375 - val_loss: 969908.8750 - val_mse: 969908.8750\n",
            "Epoch 4/5\n",
            "4989/4989 [==============================] - 38s 8ms/step - loss: 1006528.1875 - mse: 1006528.1875 - val_loss: 958780.3750 - val_mse: 958780.3750\n",
            "Epoch 5/5\n",
            "4989/4989 [==============================] - 37s 7ms/step - loss: 1005740.5625 - mse: 1005740.5625 - val_loss: 1070237.0000 - val_mse: 1070237.0000\n"
          ],
          "name": "stdout"
        },
        {
          "output_type": "execute_result",
          "data": {
            "text/plain": [
              "<tensorflow.python.keras.callbacks.History at 0x7f0a2de976a0>"
            ]
          },
          "metadata": {
            "tags": []
          },
          "execution_count": 181
        }
      ]
    },
    {
      "cell_type": "code",
      "metadata": {
        "id": "RTksjI8XXRfD",
        "colab_type": "code",
        "colab": {}
      },
      "source": [
        "reg_fc1 = Dense(1048, input_shape=(5,), activation='relu', kernel_regularizer=tf.keras.regularizers.l1_l2(l1=0.001, l2=0.001))\n",
        "reg_fc2 = Dense(512, activation='relu', kernel_regularizer=tf.keras.regularizers.l1_l2(l1=0.001, l2=0.001))\n",
        "reg_fc3 = Dense(128, activation='relu', kernel_regularizer=tf.keras.regularizers.l1_l2(l1=0.001, l2=0.001))\n",
        "reg_fc4 = Dense(64, activation='relu', kernel_regularizer=tf.keras.regularizers.l1_l2(l1=0.001, l2=0.001))\n",
        "reg_fc5 = Dense(1, activation='relu')"
      ],
      "execution_count": 0,
      "outputs": []
    },
    {
      "cell_type": "code",
      "metadata": {
        "id": "pCk3LZXLQUfA",
        "colab_type": "code",
        "colab": {}
      },
      "source": [
        "model2 = tf.keras.Sequential()\n",
        "model2.add(reg_fc1)\n",
        "model2.add(reg_fc2)\n",
        "model2.add(reg_fc3)\n",
        "model2.add(reg_fc4)\n",
        "model2.add(reg_fc5)"
      ],
      "execution_count": 0,
      "outputs": []
    },
    {
      "cell_type": "code",
      "metadata": {
        "id": "cVRQaqcCHR5P",
        "colab_type": "code",
        "outputId": "18775be0-4474-43c7-e524-68f2ca910a7b",
        "colab": {
          "base_uri": "https://localhost:8080/",
          "height": 323
        }
      },
      "source": [
        "model2.summary()"
      ],
      "execution_count": 0,
      "outputs": [
        {
          "output_type": "stream",
          "text": [
            "Model: \"sequential_28\"\n",
            "_________________________________________________________________\n",
            "Layer (type)                 Output Shape              Param #   \n",
            "=================================================================\n",
            "dense_132 (Dense)            (None, 1048)              6288      \n",
            "_________________________________________________________________\n",
            "dense_133 (Dense)            (None, 512)               537088    \n",
            "_________________________________________________________________\n",
            "dense_134 (Dense)            (None, 128)               65664     \n",
            "_________________________________________________________________\n",
            "dense_135 (Dense)            (None, 64)                8256      \n",
            "_________________________________________________________________\n",
            "dense_136 (Dense)            (None, 1)                 65        \n",
            "=================================================================\n",
            "Total params: 617,361\n",
            "Trainable params: 617,361\n",
            "Non-trainable params: 0\n",
            "_________________________________________________________________\n"
          ],
          "name": "stdout"
        }
      ]
    },
    {
      "cell_type": "code",
      "metadata": {
        "id": "ENpg57ky8P6S",
        "colab_type": "code",
        "colab": {}
      },
      "source": [
        "optimizer = tf.keras.optimizers.Adam(0.1)"
      ],
      "execution_count": 0,
      "outputs": []
    },
    {
      "cell_type": "code",
      "metadata": {
        "id": "o95zc6IlHUOk",
        "colab_type": "code",
        "colab": {}
      },
      "source": [
        "model2.compile(optimizer=optimizer, loss='mse', metrics=['mse'])"
      ],
      "execution_count": 0,
      "outputs": []
    },
    {
      "cell_type": "code",
      "metadata": {
        "id": "jp5SvFsHHWKK",
        "colab_type": "code",
        "outputId": "ef0d694b-0d5e-4b23-e500-ed887b6192b2",
        "colab": {
          "base_uri": "https://localhost:8080/",
          "height": 204
        }
      },
      "source": [
        "model2.fit(train_data, train_target, epochs=5, validation_split=0.2)"
      ],
      "execution_count": 0,
      "outputs": [
        {
          "output_type": "stream",
          "text": [
            "Epoch 1/5\n",
            "4989/4989 [==============================] - 58s 12ms/step - loss: 8956351.0000 - mse: 8956092.0000 - val_loss: 3970206.0000 - val_mse: 3969996.2500\n",
            "Epoch 2/5\n",
            "4989/4989 [==============================] - 57s 11ms/step - loss: 4028325.0000 - mse: 4028123.2500 - val_loss: 3970193.7500 - val_mse: 3969996.2500\n",
            "Epoch 3/5\n",
            "4989/4989 [==============================] - 53s 11ms/step - loss: 4028306.0000 - mse: 4028129.5000 - val_loss: 3970167.2500 - val_mse: 3969996.2500\n",
            "Epoch 4/5\n",
            "4989/4989 [==============================] - 54s 11ms/step - loss: 4028262.5000 - mse: 4028119.5000 - val_loss: 3970107.0000 - val_mse: 3969996.2500\n",
            "Epoch 5/5\n",
            "4989/4989 [==============================] - 54s 11ms/step - loss: 4028182.5000 - mse: 4028115.5000 - val_loss: 3970020.7500 - val_mse: 3969996.2500\n"
          ],
          "name": "stdout"
        },
        {
          "output_type": "execute_result",
          "data": {
            "text/plain": [
              "<tensorflow.python.keras.callbacks.History at 0x7f0a20c51dd8>"
            ]
          },
          "metadata": {
            "tags": []
          },
          "execution_count": 217
        }
      ]
    }
  ]
}