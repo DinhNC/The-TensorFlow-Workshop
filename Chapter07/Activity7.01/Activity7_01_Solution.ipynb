{
  "nbformat": 4,
  "nbformat_minor": 0,
  "metadata": {
    "colab": {
      "name": "Activity7.01_Solution.ipynb",
      "provenance": [],
      "collapsed_sections": []
    },
    "kernelspec": {
      "name": "python3",
      "display_name": "Python 3"
    }
  },
  "cells": [
    {
      "cell_type": "markdown",
      "metadata": {
        "id": "j9GxqvjDWBjN",
        "colab_type": "text"
      },
      "source": [
        "# **Activity 7.01**\n",
        "# **Building a Convolutional Neural Network with More ANN Layers**  \n",
        "\n",
        "In thie activity for this Chapter, you’ll be putting all that you’ve learned to use as you build your own classifier with the CIFAR100. The CIFAR100 is \n",
        "\n",
        "Here's some code to get you started. Remember you can go back to previous exercises for guidance if needed. Good luck!\n"
      ]
    },
    {
      "cell_type": "markdown",
      "metadata": {
        "id": "hLuitRQdSuMN",
        "colab_type": "text"
      },
      "source": [
        "**1. Import Tensorflow**"
      ]
    },
    {
      "cell_type": "code",
      "metadata": {
        "id": "TLxg-FNScLFH",
        "colab_type": "code",
        "outputId": "52bb15fa-e3ec-4421-c8d2-4d7b1720ef83",
        "colab": {
          "base_uri": "https://localhost:8080/",
          "height": 638
        }
      },
      "source": [
        "!pip install tensorflow"
      ],
      "execution_count": 0,
      "outputs": [
        {
          "output_type": "stream",
          "text": [
            "Requirement already satisfied: tensorflow in /usr/local/lib/python3.6/dist-packages (2.2.0)\n",
            "Requirement already satisfied: protobuf>=3.8.0 in /usr/local/lib/python3.6/dist-packages (from tensorflow) (3.10.0)\n",
            "Requirement already satisfied: tensorflow-estimator<2.3.0,>=2.2.0 in /usr/local/lib/python3.6/dist-packages (from tensorflow) (2.2.0)\n",
            "Requirement already satisfied: absl-py>=0.7.0 in /usr/local/lib/python3.6/dist-packages (from tensorflow) (0.9.0)\n",
            "Requirement already satisfied: six>=1.12.0 in /usr/local/lib/python3.6/dist-packages (from tensorflow) (1.12.0)\n",
            "Requirement already satisfied: termcolor>=1.1.0 in /usr/local/lib/python3.6/dist-packages (from tensorflow) (1.1.0)\n",
            "Requirement already satisfied: wheel>=0.26; python_version >= \"3\" in /usr/local/lib/python3.6/dist-packages (from tensorflow) (0.34.2)\n",
            "Requirement already satisfied: google-pasta>=0.1.8 in /usr/local/lib/python3.6/dist-packages (from tensorflow) (0.2.0)\n",
            "Requirement already satisfied: astunparse==1.6.3 in /usr/local/lib/python3.6/dist-packages (from tensorflow) (1.6.3)\n",
            "Requirement already satisfied: gast==0.3.3 in /usr/local/lib/python3.6/dist-packages (from tensorflow) (0.3.3)\n",
            "Requirement already satisfied: numpy<2.0,>=1.16.0 in /usr/local/lib/python3.6/dist-packages (from tensorflow) (1.18.4)\n",
            "Requirement already satisfied: wrapt>=1.11.1 in /usr/local/lib/python3.6/dist-packages (from tensorflow) (1.12.1)\n",
            "Requirement already satisfied: opt-einsum>=2.3.2 in /usr/local/lib/python3.6/dist-packages (from tensorflow) (3.2.1)\n",
            "Requirement already satisfied: grpcio>=1.8.6 in /usr/local/lib/python3.6/dist-packages (from tensorflow) (1.28.1)\n",
            "Requirement already satisfied: scipy==1.4.1; python_version >= \"3\" in /usr/local/lib/python3.6/dist-packages (from tensorflow) (1.4.1)\n",
            "Requirement already satisfied: h5py<2.11.0,>=2.10.0 in /usr/local/lib/python3.6/dist-packages (from tensorflow) (2.10.0)\n",
            "Requirement already satisfied: keras-preprocessing>=1.1.0 in /usr/local/lib/python3.6/dist-packages (from tensorflow) (1.1.0)\n",
            "Requirement already satisfied: tensorboard<2.3.0,>=2.2.0 in /usr/local/lib/python3.6/dist-packages (from tensorflow) (2.2.1)\n",
            "Requirement already satisfied: setuptools in /usr/local/lib/python3.6/dist-packages (from protobuf>=3.8.0->tensorflow) (46.1.3)\n",
            "Requirement already satisfied: werkzeug>=0.11.15 in /usr/local/lib/python3.6/dist-packages (from tensorboard<2.3.0,>=2.2.0->tensorflow) (1.0.1)\n",
            "Requirement already satisfied: tensorboard-plugin-wit>=1.6.0 in /usr/local/lib/python3.6/dist-packages (from tensorboard<2.3.0,>=2.2.0->tensorflow) (1.6.0.post3)\n",
            "Requirement already satisfied: markdown>=2.6.8 in /usr/local/lib/python3.6/dist-packages (from tensorboard<2.3.0,>=2.2.0->tensorflow) (3.2.1)\n",
            "Requirement already satisfied: requests<3,>=2.21.0 in /usr/local/lib/python3.6/dist-packages (from tensorboard<2.3.0,>=2.2.0->tensorflow) (2.23.0)\n",
            "Requirement already satisfied: google-auth<2,>=1.6.3 in /usr/local/lib/python3.6/dist-packages (from tensorboard<2.3.0,>=2.2.0->tensorflow) (1.7.2)\n",
            "Requirement already satisfied: google-auth-oauthlib<0.5,>=0.4.1 in /usr/local/lib/python3.6/dist-packages (from tensorboard<2.3.0,>=2.2.0->tensorflow) (0.4.1)\n",
            "Requirement already satisfied: idna<3,>=2.5 in /usr/local/lib/python3.6/dist-packages (from requests<3,>=2.21.0->tensorboard<2.3.0,>=2.2.0->tensorflow) (2.9)\n",
            "Requirement already satisfied: urllib3!=1.25.0,!=1.25.1,<1.26,>=1.21.1 in /usr/local/lib/python3.6/dist-packages (from requests<3,>=2.21.0->tensorboard<2.3.0,>=2.2.0->tensorflow) (1.24.3)\n",
            "Requirement already satisfied: chardet<4,>=3.0.2 in /usr/local/lib/python3.6/dist-packages (from requests<3,>=2.21.0->tensorboard<2.3.0,>=2.2.0->tensorflow) (3.0.4)\n",
            "Requirement already satisfied: certifi>=2017.4.17 in /usr/local/lib/python3.6/dist-packages (from requests<3,>=2.21.0->tensorboard<2.3.0,>=2.2.0->tensorflow) (2020.4.5.1)\n",
            "Requirement already satisfied: rsa<4.1,>=3.1.4 in /usr/local/lib/python3.6/dist-packages (from google-auth<2,>=1.6.3->tensorboard<2.3.0,>=2.2.0->tensorflow) (4.0)\n",
            "Requirement already satisfied: pyasn1-modules>=0.2.1 in /usr/local/lib/python3.6/dist-packages (from google-auth<2,>=1.6.3->tensorboard<2.3.0,>=2.2.0->tensorflow) (0.2.8)\n",
            "Requirement already satisfied: cachetools<3.2,>=2.0.0 in /usr/local/lib/python3.6/dist-packages (from google-auth<2,>=1.6.3->tensorboard<2.3.0,>=2.2.0->tensorflow) (3.1.1)\n",
            "Requirement already satisfied: requests-oauthlib>=0.7.0 in /usr/local/lib/python3.6/dist-packages (from google-auth-oauthlib<0.5,>=0.4.1->tensorboard<2.3.0,>=2.2.0->tensorflow) (1.3.0)\n",
            "Requirement already satisfied: pyasn1>=0.1.3 in /usr/local/lib/python3.6/dist-packages (from rsa<4.1,>=3.1.4->google-auth<2,>=1.6.3->tensorboard<2.3.0,>=2.2.0->tensorflow) (0.4.8)\n",
            "Requirement already satisfied: oauthlib>=3.0.0 in /usr/local/lib/python3.6/dist-packages (from requests-oauthlib>=0.7.0->google-auth-oauthlib<0.5,>=0.4.1->tensorboard<2.3.0,>=2.2.0->tensorflow) (3.1.0)\n"
          ],
          "name": "stdout"
        }
      ]
    },
    {
      "cell_type": "code",
      "metadata": {
        "id": "8lrK79yLQgpf",
        "colab_type": "code",
        "colab": {}
      },
      "source": [
        "import tensorflow as tf"
      ],
      "execution_count": 0,
      "outputs": []
    },
    {
      "cell_type": "markdown",
      "metadata": {
        "id": "_Ua5W_kGSviB",
        "colab_type": "text"
      },
      "source": [
        "**2. Check TensorFlow version**"
      ]
    },
    {
      "cell_type": "code",
      "metadata": {
        "id": "iK58j2dzQtDi",
        "colab_type": "code",
        "outputId": "df1e2766-a669-41a9-ec5c-5acdeb685806",
        "colab": {
          "base_uri": "https://localhost:8080/",
          "height": 34
        }
      },
      "source": [
        "print(tf.__version__)"
      ],
      "execution_count": 0,
      "outputs": [
        {
          "output_type": "stream",
          "text": [
            "2.2.0\n"
          ],
          "name": "stdout"
        }
      ]
    },
    {
      "cell_type": "markdown",
      "metadata": {
        "id": "N5vmTISySwrh",
        "colab_type": "text"
      },
      "source": [
        "**3. Import additional libraries.**"
      ]
    },
    {
      "cell_type": "code",
      "metadata": {
        "id": "dp_P3zaAQwVp",
        "colab_type": "code",
        "colab": {}
      },
      "source": [
        "import numpy as np\n",
        "import matplotlib.pyplot as plt\n",
        "from tensorflow.keras.layers import Input, Conv2D, Dense, Flatten, Dropout, GlobalMaxPooling2D\n",
        "from tensorflow.keras.models import Model\n",
        "from sklearn.metrics import confusion_matrix\n",
        "import itertools\n",
        "import matplotlib.pyplot as plt\n"
      ],
      "execution_count": 0,
      "outputs": []
    },
    {
      "cell_type": "markdown",
      "metadata": {
        "id": "7Jz6uBwKSxfp",
        "colab_type": "text"
      },
      "source": [
        "**4. Load the CIFAR100 dataset.**"
      ]
    },
    {
      "cell_type": "code",
      "metadata": {
        "id": "jMZ7K39KQywS",
        "colab_type": "code",
        "outputId": "53df951d-0cb8-4911-cf99-97c4cb54809c",
        "colab": {
          "base_uri": "https://localhost:8080/",
          "height": 87
        }
      },
      "source": [
        "cifar100 = tf.keras.datasets.cifar100\n",
        "\n",
        "(x_train, y_train), (x_test, y_test) = cifar100.load_data()\n",
        "x_train, x_test = x_train / 255.0, x_test / 255.0\n",
        "y_train, y_test = y_train.flatten(), y_test.flatten()\n",
        "print(\"x_train.shape:\", x_train.shape)\n",
        "print(\"y_train.shape\", y_train.shape)\n"
      ],
      "execution_count": 0,
      "outputs": [
        {
          "output_type": "stream",
          "text": [
            "Downloading data from https://www.cs.toronto.edu/~kriz/cifar-100-python.tar.gz\n",
            "169009152/169001437 [==============================] - 6s 0us/step\n",
            "x_train.shape: (50000, 32, 32, 3)\n",
            "y_train.shape (50000,)\n"
          ],
          "name": "stdout"
        }
      ]
    },
    {
      "cell_type": "markdown",
      "metadata": {
        "id": "KVuygWBHSy4q",
        "colab_type": "text"
      },
      "source": [
        "**5. Check the number of classes.**"
      ]
    },
    {
      "cell_type": "code",
      "metadata": {
        "id": "t4XznJ5zQ14U",
        "colab_type": "code",
        "outputId": "0cfca28d-9a49-4a48-ba78-9b21b258c018",
        "colab": {
          "base_uri": "https://localhost:8080/",
          "height": 34
        }
      },
      "source": [
        "K = len(set(y_train))\n",
        "print(\"number of classes:\", K)\n"
      ],
      "execution_count": 0,
      "outputs": [
        {
          "output_type": "stream",
          "text": [
            "number of classes: 100\n"
          ],
          "name": "stdout"
        }
      ]
    },
    {
      "cell_type": "markdown",
      "metadata": {
        "id": "yWtTWoWjSz6h",
        "colab_type": "text"
      },
      "source": [
        "**6. Build the model.**"
      ]
    },
    {
      "cell_type": "code",
      "metadata": {
        "id": "5Q02AphYQ67S",
        "colab_type": "code",
        "colab": {}
      },
      "source": [
        "i = Input(shape=x_train[0].shape)\n",
        "x = Conv2D(32, (3, 3), strides=2, activation='relu')(i)\n",
        "x = Conv2D(64, (3, 3), strides=2, activation='relu')(x)\n",
        "x = Conv2D(128, (3, 3), strides=2, activation='relu')(x)\n",
        "x = Flatten()(x)\n",
        "x = Dropout(0.5)(x)\n",
        "x = Dense(1024, activation='relu')(x)\n",
        "x = Dropout(0.2)(x)\n",
        "x = Dense(K, activation='softmax')(x)\n",
        "\n",
        "model = Model(i, x)\n"
      ],
      "execution_count": 0,
      "outputs": []
    },
    {
      "cell_type": "markdown",
      "metadata": {
        "id": "0wdtgeaUS0kB",
        "colab_type": "text"
      },
      "source": [
        "**7. Compile the model.**"
      ]
    },
    {
      "cell_type": "code",
      "metadata": {
        "id": "RN6FZkKSQ_zy",
        "colab_type": "code",
        "outputId": "58a9459f-6496-46b2-b456-14943c3cb1fd",
        "colab": {
          "base_uri": "https://localhost:8080/",
          "height": 550
        }
      },
      "source": [
        "model.compile(optimizer='adam',\n",
        "              loss='sparse_categorical_crossentropy',\n",
        "              metrics=['accuracy'])\n",
        "r = model.fit(x_train, y_train, validation_data=(x_test, y_test), epochs=15)\n"
      ],
      "execution_count": 0,
      "outputs": [
        {
          "output_type": "stream",
          "text": [
            "Epoch 1/15\n",
            "1563/1563 [==============================] - 52s 34ms/step - loss: 3.8349 - accuracy: 0.1129 - val_loss: 3.3179 - val_accuracy: 0.2084\n",
            "Epoch 2/15\n",
            "1563/1563 [==============================] - 51s 33ms/step - loss: 3.2574 - accuracy: 0.2111 - val_loss: 3.0022 - val_accuracy: 0.2640\n",
            "Epoch 3/15\n",
            "1563/1563 [==============================] - 49s 31ms/step - loss: 3.0106 - accuracy: 0.2551 - val_loss: 2.8780 - val_accuracy: 0.2888\n",
            "Epoch 4/15\n",
            "1563/1563 [==============================] - 49s 31ms/step - loss: 2.8343 - accuracy: 0.2909 - val_loss: 2.7144 - val_accuracy: 0.3261\n",
            "Epoch 5/15\n",
            "1563/1563 [==============================] - 48s 31ms/step - loss: 2.6983 - accuracy: 0.3187 - val_loss: 2.6562 - val_accuracy: 0.3412\n",
            "Epoch 6/15\n",
            "1563/1563 [==============================] - 48s 31ms/step - loss: 2.5785 - accuracy: 0.3398 - val_loss: 2.5693 - val_accuracy: 0.3518\n",
            "Epoch 7/15\n",
            "1563/1563 [==============================] - 48s 31ms/step - loss: 2.4689 - accuracy: 0.3616 - val_loss: 2.5666 - val_accuracy: 0.3613\n",
            "Epoch 8/15\n",
            "1563/1563 [==============================] - 49s 31ms/step - loss: 2.3822 - accuracy: 0.3790 - val_loss: 2.5224 - val_accuracy: 0.3704\n",
            "Epoch 9/15\n",
            "1563/1563 [==============================] - 49s 31ms/step - loss: 2.2973 - accuracy: 0.3964 - val_loss: 2.5001 - val_accuracy: 0.3737\n",
            "Epoch 10/15\n",
            "1563/1563 [==============================] - 50s 32ms/step - loss: 2.2320 - accuracy: 0.4123 - val_loss: 2.4699 - val_accuracy: 0.3816\n",
            "Epoch 11/15\n",
            "1563/1563 [==============================] - 49s 31ms/step - loss: 2.1692 - accuracy: 0.4212 - val_loss: 2.4654 - val_accuracy: 0.3842\n",
            "Epoch 12/15\n",
            "1563/1563 [==============================] - 50s 32ms/step - loss: 2.1058 - accuracy: 0.4337 - val_loss: 2.4701 - val_accuracy: 0.3837\n",
            "Epoch 13/15\n",
            "1563/1563 [==============================] - 49s 31ms/step - loss: 2.0521 - accuracy: 0.4479 - val_loss: 2.4334 - val_accuracy: 0.3943\n",
            "Epoch 14/15\n",
            "1563/1563 [==============================] - 51s 33ms/step - loss: 2.0045 - accuracy: 0.4596 - val_loss: 2.4410 - val_accuracy: 0.3918\n",
            "Epoch 15/15\n",
            "1563/1563 [==============================] - 49s 31ms/step - loss: 1.9389 - accuracy: 0.4736 - val_loss: 2.4695 - val_accuracy: 0.3845\n"
          ],
          "name": "stdout"
        }
      ]
    },
    {
      "cell_type": "markdown",
      "metadata": {
        "id": "QY38ihW-S1Kb",
        "colab_type": "text"
      },
      "source": [
        "**8. Plot loss.**"
      ]
    },
    {
      "cell_type": "code",
      "metadata": {
        "id": "btO_K9snRAsJ",
        "colab_type": "code",
        "outputId": "abae6f8c-a40e-4a36-870f-b1de6c25b605",
        "colab": {
          "base_uri": "https://localhost:8080/",
          "height": 264
        }
      },
      "source": [
        "plt.plot(r.history['loss'], label='loss')\n",
        "plt.plot(r.history['val_loss'], label='val_loss')\n",
        "plt.legend();\n"
      ],
      "execution_count": 0,
      "outputs": [
        {
          "output_type": "display_data",
          "data": {
            "image/png": "[encoded data removed]",
            "text/plain": [
              "<Figure size 432x288 with 1 Axes>"
            ]
          },
          "metadata": {
            "tags": [],
            "needs_background": "light"
          }
        }
      ]
    },
    {
      "cell_type": "markdown",
      "metadata": {
        "id": "MpipbyJAS175",
        "colab_type": "text"
      },
      "source": [
        "**9. Plot accuracy**"
      ]
    },
    {
      "cell_type": "code",
      "metadata": {
        "id": "A108Cj0FRFda",
        "colab_type": "code",
        "outputId": "5b80cb47-e800-447a-f5e5-21c117ea6c60",
        "colab": {
          "base_uri": "https://localhost:8080/",
          "height": 264
        }
      },
      "source": [
        "plt.plot(r.history['accuracy'], label='acc')\n",
        "plt.plot(r.history['val_accuracy'], label='val_acc')\n",
        "plt.legend();\n"
      ],
      "execution_count": 0,
      "outputs": [
        {
          "output_type": "display_data",
          "data": {
            "image/png": "[encoded data removed]",
            "text/plain": [
              "<Figure size 432x288 with 1 Axes>"
            ]
          },
          "metadata": {
            "tags": [],
            "needs_background": "light"
          }
        }
      ]
    },
    {
      "cell_type": "markdown",
      "metadata": {
        "id": "BblnFteyS3iR",
        "colab_type": "text"
      },
      "source": [
        "**11. Label mapping.**"
      ]
    },
    {
      "cell_type": "code",
      "metadata": {
        "id": "hA54B8UCRL_C",
        "colab_type": "code",
        "colab": {}
      },
      "source": [
        "labels = '''beaver, dolphin, otter, seal, whale\n",
        "\taquarium fish, flatfish, ray, shark, trout\n",
        "\torchids, poppies, roses, sunflowers, tulips\n",
        "\tbottles, bowls, cans, cups, plates\n",
        "\tapples, mushrooms, oranges, pears, sweet peppers\n",
        "\tclock, computer keyboard, lamp, telephone, television\n",
        "\tbed, chair, couch, table, wardrobe\n",
        "\tbee, beetle, butterfly, caterpillar, cockroach\n",
        "\tbear, leopard, lion, tiger, wolf\n",
        "\tbridge, castle, house, road, skyscraper\n",
        "\tcloud, forest, mountain, plain, sea\n",
        "\tcamel, cattle, chimpanzee, elephant, kangaroo\n",
        "\tfox, porcupine, possum, raccoon, skunk\n",
        "\tcrab, lobster, snail, spider, worm\n",
        "\tbaby, boy, girl, man, woman\n",
        "\tcrocodile, dinosaur, lizard, snake, turtle\n",
        "\thamster, mouse, rabbit, shrew, squirrel\n",
        "\tmaple, oak, palm, pine, willow\n",
        "\tbicycle, bus, motorcycle, pickup truck, train\n",
        "\tlawn-mower, rocket, streetcar, tank, tractor'''.split()\n"
      ],
      "execution_count": 0,
      "outputs": []
    },
    {
      "cell_type": "markdown",
      "metadata": {
        "id": "McdTp95VS4OB",
        "colab_type": "text"
      },
      "source": [
        "**12. Check random incorrectly classified image.**"
      ]
    },
    {
      "cell_type": "code",
      "metadata": {
        "id": "lNRntBSpRONq",
        "colab_type": "code",
        "outputId": "816e61d4-e87d-4945-9721-2c6feec1f622",
        "colab": {
          "base_uri": "https://localhost:8080/",
          "height": 281
        }
      },
      "source": [
        "wrong = np.where(pred_test != y_test)[0]\n",
        "i = np.random.choice(wrong)\n",
        "plt.imshow(x_test[i], cmap='gray')\n",
        "plt.title(\"True: %s Predicted: %s\" % (labels[y_test[i]], labels[pred_test[i]]));\n"
      ],
      "execution_count": 0,
      "outputs": [
        {
          "output_type": "display_data",
          "data": {
            "image/png": "[encoded data removed]",
            "text/plain": [
              "<Figure size 432x288 with 1 Axes>"
            ]
          },
          "metadata": {
            "tags": [],
            "needs_background": "light"
          }
        }
      ]
    }
  ]
}