{
  "nbformat": 4,
  "nbformat_minor": 0,
  "metadata": {
    "colab": {
      "name": "Exercise7.02.ipynb",
      "provenance": [],
      "collapsed_sections": []
    },
    "kernelspec": {
      "name": "python3",
      "display_name": "Python 3"
    }
  },
  "cells": [
    {
      "cell_type": "markdown",
      "metadata": {
        "id": "on_SDWrtZEld",
        "colab_type": "text"
      },
      "source": [
        "# **Exercise 7.02**\n",
        "# **Pooling layer**\n",
        "\n",
        "Now that you’ve taken your first step towards creating your own CNN, let’s contimue to build our base model by adding a Pooling layer .\n"
      ]
    },
    {
      "cell_type": "markdown",
      "metadata": {
        "id": "Rlg49BZn59Qw",
        "colab_type": "text"
      },
      "source": [
        "**1. Import TensorFlow**"
      ]
    },
    {
      "cell_type": "code",
      "metadata": {
        "id": "Rdf4rNQvBCfG",
        "colab_type": "code",
        "colab": {}
      },
      "source": [
        "import tensorflow as tf"
      ],
      "execution_count": 0,
      "outputs": []
    },
    {
      "cell_type": "markdown",
      "metadata": {
        "id": "daGAB_gy6Cpu",
        "colab_type": "text"
      },
      "source": [
        "**2. Check the TensorFlow version**"
      ]
    },
    {
      "cell_type": "code",
      "metadata": {
        "id": "-Pe8hA9E6gL0",
        "colab_type": "code",
        "outputId": "44daf49d-5525-4035-dd37-00a9293cd347",
        "colab": {
          "base_uri": "https://localhost:8080/",
          "height": 34
        }
      },
      "source": [
        "# !pip install -q tensorflow-gpu==2.0.0-beta1\n",
        "\n",
        "print(tf.__version__)"
      ],
      "execution_count": 0,
      "outputs": [
        {
          "output_type": "stream",
          "text": [
            "2.2.0\n"
          ],
          "name": "stdout"
        }
      ]
    },
    {
      "cell_type": "markdown",
      "metadata": {
        "id": "urS6mKYcX0aI",
        "colab_type": "text"
      },
      "source": [
        "**11. Add our Maxpooling2D layer.**"
      ]
    },
    {
      "cell_type": "code",
      "metadata": {
        "id": "PixZ2s5QbYQ3",
        "colab_type": "code",
        "colab": {}
      },
      "source": [
        "our_model = tf.keras.models.Sequential([\n",
        "    tf.keras.layers.Conv2D(16, (3,3), activation='relu', \n",
        "                           input_shape=(300, 300, 3)),\n",
        "    tf.keras.layers.MaxPooling2D(2, 2),\n",
        "])"
      ],
      "execution_count": 0,
      "outputs": []
    }
  ]
}