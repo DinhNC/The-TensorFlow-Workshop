{
  "nbformat": 4,
  "nbformat_minor": 0,
  "metadata": {
    "colab": {
      "name": "Exercise7.05.ipynb",
      "provenance": [],
      "collapsed_sections": []
    },
    "kernelspec": {
      "name": "python3",
      "display_name": "Python 3"
    }
  },
  "cells": [
    {
      "cell_type": "markdown",
      "metadata": {
        "id": "7dV572Q7VmUz",
        "colab_type": "text"
      },
      "source": [
        "# **Exercise 7.05**\n",
        "# **Building a Convolutional Neural Network**\n",
        "\n",
        "The dataset we will be using is a rite of passage for image classification. The images were collected for the dataset by none other than Alex Krizhevsky, Vinod Nair, and Geoffery Hinton. If these names aren’t familiar to you yet, they will be. They created the dataset CIFAR10 and CIFAR100 that you’ll be using in Activity 7.1. The dataset cosists of 60,000 images that are 32 x 32. There are 10 classes of 6,000 images each. The dataset contains 50,000 training images and 10,000 test images.\n",
        "Another great thing about CIFAR10 is that we can load the datset directly from TensorFlow datasets. While it’s extremely important to spend time getting familiar with loading datasets, that isn’t the focus of this chapter. So we can benefit by being able to get going fast.\n"
      ]
    },
    {
      "cell_type": "markdown",
      "metadata": {
        "id": "hLuitRQdSuMN",
        "colab_type": "text"
      },
      "source": [
        "**1. Import Tensorflow**"
      ]
    },
    {
      "cell_type": "code",
      "metadata": {
        "id": "8lrK79yLQgpf",
        "colab_type": "code",
        "colab": {}
      },
      "source": [
        "import tensorflow as tf"
      ],
      "execution_count": 0,
      "outputs": []
    },
    {
      "cell_type": "markdown",
      "metadata": {
        "id": "_Ua5W_kGSviB",
        "colab_type": "text"
      },
      "source": [
        "**2. Check TensorFlow version**"
      ]
    },
    {
      "cell_type": "code",
      "metadata": {
        "id": "iK58j2dzQtDi",
        "colab_type": "code",
        "outputId": "59a9426d-7920-4271-c34d-66e3bc18e753",
        "colab": {
          "base_uri": "https://localhost:8080/",
          "height": 34
        }
      },
      "source": [
        "print(tf.__version__)"
      ],
      "execution_count": 0,
      "outputs": [
        {
          "output_type": "stream",
          "text": [
            "2.2.0\n"
          ],
          "name": "stdout"
        }
      ]
    },
    {
      "cell_type": "markdown",
      "metadata": {
        "id": "N5vmTISySwrh",
        "colab_type": "text"
      },
      "source": [
        "**3. Import additional libraries.**"
      ]
    },
    {
      "cell_type": "code",
      "metadata": {
        "id": "dp_P3zaAQwVp",
        "colab_type": "code",
        "colab": {}
      },
      "source": [
        "import numpy as np\n",
        "import matplotlib.pyplot as plt\n",
        "from tensorflow.keras.layers import Input, Conv2D, Dense, Flatten, Dropout, GlobalMaxPooling2D\n",
        "from tensorflow.keras.models import Model\n",
        "from sklearn.metrics import confusion_matrix\n",
        "import itertools\n",
        "import matplotlib.pyplot as plt\n"
      ],
      "execution_count": 0,
      "outputs": []
    },
    {
      "cell_type": "markdown",
      "metadata": {
        "id": "7Jz6uBwKSxfp",
        "colab_type": "text"
      },
      "source": [
        "**4. Load the CIFAR10 dataset.**"
      ]
    },
    {
      "cell_type": "code",
      "metadata": {
        "id": "jMZ7K39KQywS",
        "colab_type": "code",
        "outputId": "7001bca0-8f4f-47fe-9fe2-c7689641bf20",
        "colab": {
          "base_uri": "https://localhost:8080/",
          "height": 87
        }
      },
      "source": [
        "cifar10 = tf.keras.datasets.cifar10\n",
        "\n",
        "(x_train, y_train), (x_test, y_test) = cifar10.load_data()\n",
        "x_train, x_test = x_train / 255.0, x_test / 255.0\n",
        "y_train, y_test = y_train.flatten(), y_test.flatten()\n",
        "print(\"x_train.shape:\", x_train.shape)\n",
        "print(\"y_train.shape\", y_train.shape)\n"
      ],
      "execution_count": 0,
      "outputs": [
        {
          "output_type": "stream",
          "text": [
            "Downloading data from https://www.cs.toronto.edu/~kriz/cifar-10-python.tar.gz\n",
            "170500096/170498071 [==============================] - 6s 0us/step\n",
            "x_train.shape: (50000, 32, 32, 3)\n",
            "y_train.shape (50000,)\n"
          ],
          "name": "stdout"
        }
      ]
    },
    {
      "cell_type": "markdown",
      "metadata": {
        "id": "KVuygWBHSy4q",
        "colab_type": "text"
      },
      "source": [
        "**5. Check the number of classes.**"
      ]
    },
    {
      "cell_type": "code",
      "metadata": {
        "id": "t4XznJ5zQ14U",
        "colab_type": "code",
        "outputId": "d171d92e-a81f-4d16-b3b1-046233f5d44b",
        "colab": {
          "base_uri": "https://localhost:8080/",
          "height": 34
        }
      },
      "source": [
        "K = len(set(y_train))\n",
        "print(\"number of classes:\", K)\n"
      ],
      "execution_count": 0,
      "outputs": [
        {
          "output_type": "stream",
          "text": [
            "number of classes: 10\n"
          ],
          "name": "stdout"
        }
      ]
    },
    {
      "cell_type": "markdown",
      "metadata": {
        "id": "yWtTWoWjSz6h",
        "colab_type": "text"
      },
      "source": [
        "**6. Build the model.**"
      ]
    },
    {
      "cell_type": "code",
      "metadata": {
        "id": "5Q02AphYQ67S",
        "colab_type": "code",
        "colab": {}
      },
      "source": [
        "i = Input(shape=x_train[0].shape)\n",
        "x = Conv2D(32, (3, 3), strides=2, activation='relu')(i)\n",
        "x = Conv2D(64, (3, 3), strides=2, activation='relu')(x)\n",
        "x = Conv2D(128, (3, 3), strides=2, activation='relu')(x)\n",
        "x = Flatten()(x)\n",
        "x = Dropout(0.5)(x)\n",
        "x = Dense(1024, activation='relu')(x)\n",
        "x = Dropout(0.2)(x)\n",
        "x = Dense(K, activation='softmax')(x)\n",
        "\n",
        "model = Model(i, x)\n"
      ],
      "execution_count": 0,
      "outputs": []
    },
    {
      "cell_type": "markdown",
      "metadata": {
        "id": "0wdtgeaUS0kB",
        "colab_type": "text"
      },
      "source": [
        "**7. Compile the model.**"
      ]
    },
    {
      "cell_type": "code",
      "metadata": {
        "id": "RN6FZkKSQ_zy",
        "colab_type": "code",
        "outputId": "1b38f5f0-6225-4d91-c896-e7d2165e04c6",
        "colab": {
          "base_uri": "https://localhost:8080/",
          "height": 550
        }
      },
      "source": [
        "model.compile(optimizer='adam',\n",
        "              loss='sparse_categorical_crossentropy',\n",
        "              metrics=['accuracy'])\n",
        "r = model.fit(x_train, y_train, validation_data=(x_test, y_test), epochs=15)\n"
      ],
      "execution_count": 0,
      "outputs": [
        {
          "output_type": "stream",
          "text": [
            "Epoch 1/15\n",
            "1563/1563 [==============================] - 51s 32ms/step - loss: 1.5790 - accuracy: 0.4221 - val_loss: 1.2977 - val_accuracy: 0.5345\n",
            "Epoch 2/15\n",
            "1563/1563 [==============================] - 49s 32ms/step - loss: 1.2831 - accuracy: 0.5377 - val_loss: 1.1300 - val_accuracy: 0.6008\n",
            "Epoch 3/15\n",
            "1563/1563 [==============================] - 49s 32ms/step - loss: 1.1585 - accuracy: 0.5861 - val_loss: 1.0613 - val_accuracy: 0.6204\n",
            "Epoch 4/15\n",
            "1563/1563 [==============================] - 49s 31ms/step - loss: 1.0703 - accuracy: 0.6195 - val_loss: 0.9997 - val_accuracy: 0.6517\n",
            "Epoch 5/15\n",
            "1563/1563 [==============================] - 50s 32ms/step - loss: 0.9965 - accuracy: 0.6450 - val_loss: 0.9458 - val_accuracy: 0.6671\n",
            "Epoch 6/15\n",
            "1563/1563 [==============================] - 49s 31ms/step - loss: 0.9330 - accuracy: 0.6696 - val_loss: 0.9371 - val_accuracy: 0.6759\n",
            "Epoch 7/15\n",
            "1563/1563 [==============================] - 49s 31ms/step - loss: 0.8887 - accuracy: 0.6835 - val_loss: 0.8828 - val_accuracy: 0.6900\n",
            "Epoch 8/15\n",
            "1563/1563 [==============================] - 49s 32ms/step - loss: 0.8417 - accuracy: 0.7005 - val_loss: 0.8789 - val_accuracy: 0.6913\n",
            "Epoch 9/15\n",
            "1563/1563 [==============================] - 49s 31ms/step - loss: 0.8017 - accuracy: 0.7138 - val_loss: 0.8779 - val_accuracy: 0.7015\n",
            "Epoch 10/15\n",
            "1563/1563 [==============================] - 49s 31ms/step - loss: 0.7610 - accuracy: 0.7309 - val_loss: 0.8771 - val_accuracy: 0.6926\n",
            "Epoch 11/15\n",
            "1563/1563 [==============================] - 49s 32ms/step - loss: 0.7337 - accuracy: 0.7399 - val_loss: 0.8355 - val_accuracy: 0.7149\n",
            "Epoch 12/15\n",
            "1563/1563 [==============================] - 49s 31ms/step - loss: 0.7033 - accuracy: 0.7490 - val_loss: 0.8327 - val_accuracy: 0.7133\n",
            "Epoch 13/15\n",
            "1563/1563 [==============================] - 49s 31ms/step - loss: 0.6812 - accuracy: 0.7591 - val_loss: 0.8158 - val_accuracy: 0.7158\n",
            "Epoch 14/15\n",
            "1563/1563 [==============================] - 49s 32ms/step - loss: 0.6636 - accuracy: 0.7645 - val_loss: 0.8468 - val_accuracy: 0.7066\n",
            "Epoch 15/15\n",
            "1563/1563 [==============================] - 52s 34ms/step - loss: 0.6387 - accuracy: 0.7716 - val_loss: 0.8047 - val_accuracy: 0.7223\n"
          ],
          "name": "stdout"
        }
      ]
    },
    {
      "cell_type": "markdown",
      "metadata": {
        "id": "QY38ihW-S1Kb",
        "colab_type": "text"
      },
      "source": [
        "**8. Plot loss.**"
      ]
    },
    {
      "cell_type": "code",
      "metadata": {
        "id": "btO_K9snRAsJ",
        "colab_type": "code",
        "outputId": "654199a4-b3d7-4ea5-b777-ebeafdb7fa01",
        "colab": {
          "base_uri": "https://localhost:8080/",
          "height": 264
        }
      },
      "source": [
        "plt.plot(r.history['loss'], label='loss')\n",
        "plt.plot(r.history['val_loss'], label='val_loss')\n",
        "plt.legend();\n"
      ],
      "execution_count": 0,
      "outputs": [
        {
          "output_type": "display_data",
          "data": {
            "image/png": "[encoded data removed]",
            "text/plain": [
              "<Figure size 432x288 with 1 Axes>"
            ]
          },
          "metadata": {
            "tags": [],
            "needs_background": "light"
          }
        }
      ]
    },
    {
      "cell_type": "markdown",
      "metadata": {
        "id": "MpipbyJAS175",
        "colab_type": "text"
      },
      "source": [
        "**9. Plot accuracy**"
      ]
    },
    {
      "cell_type": "code",
      "metadata": {
        "id": "A108Cj0FRFda",
        "colab_type": "code",
        "outputId": "b938e3d7-8e4b-46ba-bd44-253d676b5d1b",
        "colab": {
          "base_uri": "https://localhost:8080/",
          "height": 264
        }
      },
      "source": [
        "plt.plot(r.history['accuracy'], label='acc')\n",
        "plt.plot(r.history['val_accuracy'], label='val_acc')\n",
        "plt.legend();\n"
      ],
      "execution_count": 0,
      "outputs": [
        {
          "output_type": "display_data",
          "data": {
            "image/png": "[encoded data removed]",
            "text/plain": [
              "<Figure size 432x288 with 1 Axes>"
            ]
          },
          "metadata": {
            "tags": [],
            "needs_background": "light"
          }
        }
      ]
    },
    {
      "cell_type": "markdown",
      "metadata": {
        "id": "MQpt0dEKS2vJ",
        "colab_type": "text"
      },
      "source": [
        "**10. Plot confusion matrix with and without normalization.**"
      ]
    },
    {
      "cell_type": "code",
      "metadata": {
        "id": "OLArve2lRJsi",
        "colab_type": "code",
        "outputId": "c535930f-5641-49fd-9874-31244996b4e4",
        "colab": {
          "base_uri": "https://localhost:8080/",
          "height": 506
        }
      },
      "source": [
        "def plot_confusion_matrix(cm, classes,\n",
        "                          normalize=False,\n",
        "                          title='Confusion matrix',\n",
        "                          cmap=plt.cm.Blues):\n",
        "  if normalize:\n",
        "      cm = cm.astype('float') / cm.sum(axis=1)[:, np.newaxis]\n",
        "      print(\"Normalized confusion matrix\")\n",
        "  else:\n",
        "      print('Confusion matrix, without normalization')\n",
        "\n",
        "  print(cm)\n",
        "  plt.imshow(cm, interpolation='nearest', cmap=cmap)\n",
        "  plt.title(title)\n",
        "  plt.colorbar()\n",
        "  tick_marks = np.arange(len(classes))\n",
        "  plt.xticks(tick_marks, classes, rotation=45)\n",
        "  plt.yticks(tick_marks, classes)\n",
        "\n",
        "  fmt = '.2f' if normalize else 'd'\n",
        "  thresh = cm.max() / 2.\n",
        "  for i, j in itertools.product(range(cm.shape[0]), range(cm.shape[1])):\n",
        "      plt.text(j, i, format(cm[i, j], fmt),\n",
        "               horizontalalignment=\"center\",\n",
        "               color=\"white\" if cm[i, j] > thresh else \"black\")\n",
        "\t\n",
        "  plt.tight_layout()\n",
        "  plt.ylabel('True')\n",
        "  plt.xlabel('Predicted')\n",
        "  plt.show() \n",
        "\n",
        "pred_test = model.predict(x_test).argmax(axis=1)\n",
        "c_mat = confusion_matrix(y_test, pred_test)\n",
        "plot_confusion_matrix(c_mat, list(range(10)))\n"
      ],
      "execution_count": 0,
      "outputs": [
        {
          "output_type": "stream",
          "text": [
            "Confusion matrix, without normalization\n",
            "[[739  16  47  19  26  12  12  13  67  49]\n",
            " [ 17 810   6   8   2   1  20   5  18 113]\n",
            " [ 64   5 523  79 108  80  74  41  18   8]\n",
            " [ 12   6  48 538  70 185  72  46  11  12]\n",
            " [ 14   2  38  56 701  36  54  84  12   3]\n",
            " [  8   4  29 168  51 627  36  67   3   7]\n",
            " [  1   2  28  61  43  26 827   7   5   0]\n",
            " [  8   0  19  30  64  52   4 810   1  12]\n",
            " [ 63  27   8   9   8   7   7   6 838  27]\n",
            " [ 32  52   5  19   4   5  13  30  30 810]]\n"
          ],
          "name": "stdout"
        },
        {
          "output_type": "display_data",
          "data": {
            "image/png": "[encoded data removed]",
            "text/plain": [
              "<Figure size 432x288 with 2 Axes>"
            ]
          },
          "metadata": {
            "tags": [],
            "needs_background": "light"
          }
        }
      ]
    },
    {
      "cell_type": "markdown",
      "metadata": {
        "id": "BblnFteyS3iR",
        "colab_type": "text"
      },
      "source": [
        "**11. Label mapping.**"
      ]
    },
    {
      "cell_type": "code",
      "metadata": {
        "id": "hA54B8UCRL_C",
        "colab_type": "code",
        "colab": {}
      },
      "source": [
        "labels = '''airplane\n",
        "automobile\n",
        "bird\n",
        "cat\n",
        "deer\n",
        "dog\n",
        "frog\n",
        "horse\n",
        "ship\n",
        "truck'''.split()\n"
      ],
      "execution_count": 0,
      "outputs": []
    },
    {
      "cell_type": "markdown",
      "metadata": {
        "id": "McdTp95VS4OB",
        "colab_type": "text"
      },
      "source": [
        "**12. Check random incorrectly classified image.**"
      ]
    },
    {
      "cell_type": "code",
      "metadata": {
        "id": "lNRntBSpRONq",
        "colab_type": "code",
        "outputId": "22402f05-9e6f-4bb3-afad-bcc65dcab120",
        "colab": {
          "base_uri": "https://localhost:8080/",
          "height": 281
        }
      },
      "source": [
        "wrong = np.where(pred_test != y_test)[0]\n",
        "i = np.random.choice(wrong)\n",
        "plt.imshow(x_test[i], cmap='gray')\n",
        "plt.title(\"True: %s Predicted: %s\" % (labels[y_test[i]], labels[pred_test[i]]));\n"
      ],
      "execution_count": 0,
      "outputs": [
        {
          "output_type": "display_data",
          "data": {
            "image/png": "[encoded data removed]",
            "text/plain": [
              "<Figure size 432x288 with 1 Axes>"
            ]
          },
          "metadata": {
            "tags": [],
            "needs_background": "light"
          }
        }
      ]
    }
  ]
}