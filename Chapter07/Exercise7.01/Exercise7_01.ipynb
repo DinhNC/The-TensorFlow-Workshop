{
  "nbformat": 4,
  "nbformat_minor": 0,
  "metadata": {
    "colab": {
      "name": "Exercise7.01.ipynb",
      "provenance": [],
      "collapsed_sections": []
    },
    "kernelspec": {
      "name": "python3",
      "display_name": "Python 3"
    }
  },
  "cells": [
    {
      "cell_type": "markdown",
      "metadata": {
        "id": "on_SDWrtZEld",
        "colab_type": "text"
      },
      "source": [
        "# **Exercise 7.01**\n",
        "# **Our First Layer**\n",
        "\n",
        "We’re going to complete the first step in creating a convolutional neural network. We’re going to start building our CNN. Our fist step will be to add our first convolutional layer.\n"
      ]
    },
    {
      "cell_type": "markdown",
      "metadata": {
        "id": "7pBpi1df0n8e",
        "colab_type": "text"
      },
      "source": [
        "**1. Import TensorFlow**"
      ]
    },
    {
      "cell_type": "code",
      "metadata": {
        "id": "Rdf4rNQvBCfG",
        "colab_type": "code",
        "colab": {}
      },
      "source": [
        "import tensorflow as tf"
      ],
      "execution_count": 0,
      "outputs": []
    },
    {
      "cell_type": "markdown",
      "metadata": {
        "id": "QMs1jUwZ1NW-",
        "colab_type": "text"
      },
      "source": [
        "**2. Check the TensorFlow version.**"
      ]
    },
    {
      "cell_type": "code",
      "metadata": {
        "id": "-Pe8hA9E6gL0",
        "colab_type": "code",
        "outputId": "d75a3cb3-6647-47ee-b07e-758920969d0b",
        "colab": {
          "base_uri": "https://localhost:8080/",
          "height": 34
        }
      },
      "source": [
        "# !pip install -q tensorflow-gpu==2.0.0-beta1\n",
        "\n",
        "print(tf.__version__)"
      ],
      "execution_count": 0,
      "outputs": [
        {
          "output_type": "stream",
          "text": [
            "2.2.0\n"
          ],
          "name": "stdout"
        }
      ]
    },
    {
      "cell_type": "markdown",
      "metadata": {
        "id": "urS6mKYcX0aI",
        "colab_type": "text"
      },
      "source": [
        "**3. Create our first Conv2D layer.**"
      ]
    },
    {
      "cell_type": "code",
      "metadata": {
        "id": "PixZ2s5QbYQ3",
        "colab_type": "code",
        "colab": {}
      },
      "source": [
        "our_first_model = tf.keras.models.Sequential([\n",
        "    tf.keras.layers.Conv2D(16, (3,3), activation='relu', \n",
        "                           input_shape=(300, 300, 3)),\n",
        "])"
      ],
      "execution_count": 0,
      "outputs": []
    }
  ]
}