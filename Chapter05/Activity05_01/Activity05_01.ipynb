{
  "nbformat": 4,
  "nbformat_minor": 0,
  "metadata": {
    "colab": {
      "name": "Activity05_01.ipynb",
      "provenance": [],
      "collapsed_sections": []
    },
    "kernelspec": {
      "name": "python3",
      "display_name": "Python 3"
    }
  },
  "cells": [
    {
      "cell_type": "code",
      "metadata": {
        "id": "Uf630aTfG4fB",
        "colab_type": "code",
        "colab": {}
      },
      "source": [
        "import pandas as pd"
      ],
      "execution_count": 0,
      "outputs": []
    },
    {
      "cell_type": "code",
      "metadata": {
        "id": "9UTKnuyMG4iF",
        "colab_type": "code",
        "colab": {}
      },
      "source": [
        "file_url = 'https://raw.githubusercontent.com/PacktWorkshops/The-TensorFlow-Workshop/master/Chapter05/dataset/letter-recognition.data'"
      ],
      "execution_count": 0,
      "outputs": []
    },
    {
      "cell_type": "code",
      "metadata": {
        "id": "b7Z2bZNWI5IH",
        "colab_type": "code",
        "outputId": "a99d09f0-676c-4a89-91d8-2532d308e27e",
        "colab": {
          "base_uri": "https://localhost:8080/",
          "height": 204
        }
      },
      "source": [
        "data = pd.read_csv(file_url, header=None)\n",
        "data.head()"
      ],
      "execution_count": 0,
      "outputs": [
        {
          "output_type": "execute_result",
          "data": {
            "text/html": [
              "<div>\n",
              "<style scoped>\n",
              "    .dataframe tbody tr th:only-of-type {\n",
              "        vertical-align: middle;\n",
              "    }\n",
              "\n",
              "    .dataframe tbody tr th {\n",
              "        vertical-align: top;\n",
              "    }\n",
              "\n",
              "    .dataframe thead th {\n",
              "        text-align: right;\n",
              "    }\n",
              "</style>\n",
              "<table border=\"1\" class=\"dataframe\">\n",
              "  <thead>\n",
              "    <tr style=\"text-align: right;\">\n",
              "      <th></th>\n",
              "      <th>0</th>\n",
              "      <th>1</th>\n",
              "      <th>2</th>\n",
              "      <th>3</th>\n",
              "      <th>4</th>\n",
              "      <th>5</th>\n",
              "      <th>6</th>\n",
              "      <th>7</th>\n",
              "      <th>8</th>\n",
              "      <th>9</th>\n",
              "      <th>10</th>\n",
              "      <th>11</th>\n",
              "      <th>12</th>\n",
              "      <th>13</th>\n",
              "      <th>14</th>\n",
              "      <th>15</th>\n",
              "      <th>16</th>\n",
              "    </tr>\n",
              "  </thead>\n",
              "  <tbody>\n",
              "    <tr>\n",
              "      <th>0</th>\n",
              "      <td>0</td>\n",
              "      <td>1</td>\n",
              "      <td>2</td>\n",
              "      <td>3</td>\n",
              "      <td>4</td>\n",
              "      <td>5</td>\n",
              "      <td>6</td>\n",
              "      <td>7</td>\n",
              "      <td>8</td>\n",
              "      <td>9</td>\n",
              "      <td>10</td>\n",
              "      <td>11</td>\n",
              "      <td>12</td>\n",
              "      <td>13</td>\n",
              "      <td>14</td>\n",
              "      <td>15</td>\n",
              "      <td>16</td>\n",
              "    </tr>\n",
              "    <tr>\n",
              "      <th>1</th>\n",
              "      <td>0</td>\n",
              "      <td>2</td>\n",
              "      <td>8</td>\n",
              "      <td>3</td>\n",
              "      <td>5</td>\n",
              "      <td>1</td>\n",
              "      <td>8</td>\n",
              "      <td>13</td>\n",
              "      <td>0</td>\n",
              "      <td>6</td>\n",
              "      <td>6</td>\n",
              "      <td>10</td>\n",
              "      <td>8</td>\n",
              "      <td>0</td>\n",
              "      <td>8</td>\n",
              "      <td>0</td>\n",
              "      <td>8</td>\n",
              "    </tr>\n",
              "    <tr>\n",
              "      <th>2</th>\n",
              "      <td>1</td>\n",
              "      <td>5</td>\n",
              "      <td>12</td>\n",
              "      <td>3</td>\n",
              "      <td>7</td>\n",
              "      <td>2</td>\n",
              "      <td>10</td>\n",
              "      <td>5</td>\n",
              "      <td>5</td>\n",
              "      <td>4</td>\n",
              "      <td>13</td>\n",
              "      <td>3</td>\n",
              "      <td>9</td>\n",
              "      <td>2</td>\n",
              "      <td>8</td>\n",
              "      <td>4</td>\n",
              "      <td>10</td>\n",
              "    </tr>\n",
              "    <tr>\n",
              "      <th>3</th>\n",
              "      <td>2</td>\n",
              "      <td>4</td>\n",
              "      <td>11</td>\n",
              "      <td>6</td>\n",
              "      <td>8</td>\n",
              "      <td>6</td>\n",
              "      <td>10</td>\n",
              "      <td>6</td>\n",
              "      <td>2</td>\n",
              "      <td>6</td>\n",
              "      <td>10</td>\n",
              "      <td>3</td>\n",
              "      <td>7</td>\n",
              "      <td>3</td>\n",
              "      <td>7</td>\n",
              "      <td>3</td>\n",
              "      <td>9</td>\n",
              "    </tr>\n",
              "    <tr>\n",
              "      <th>4</th>\n",
              "      <td>3</td>\n",
              "      <td>7</td>\n",
              "      <td>11</td>\n",
              "      <td>6</td>\n",
              "      <td>6</td>\n",
              "      <td>3</td>\n",
              "      <td>5</td>\n",
              "      <td>9</td>\n",
              "      <td>4</td>\n",
              "      <td>6</td>\n",
              "      <td>4</td>\n",
              "      <td>4</td>\n",
              "      <td>10</td>\n",
              "      <td>6</td>\n",
              "      <td>10</td>\n",
              "      <td>2</td>\n",
              "      <td>8</td>\n",
              "    </tr>\n",
              "  </tbody>\n",
              "</table>\n",
              "</div>"
            ],
            "text/plain": [
              "   0   1   2   3   4   5   6   7   8   9   10  11  12  13  14  15  16\n",
              "0   0   1   2   3   4   5   6   7   8   9  10  11  12  13  14  15  16\n",
              "1   0   2   8   3   5   1   8  13   0   6   6  10   8   0   8   0   8\n",
              "2   1   5  12   3   7   2  10   5   5   4  13   3   9   2   8   4  10\n",
              "3   2   4  11   6   8   6  10   6   2   6  10   3   7   3   7   3   9\n",
              "4   3   7  11   6   6   3   5   9   4   6   4   4  10   6  10   2   8"
            ]
          },
          "metadata": {
            "tags": []
          },
          "execution_count": 5
        }
      ]
    },
    {
      "cell_type": "code",
      "metadata": {
        "id": "VxC-g8BlK8_p",
        "colab_type": "code",
        "colab": {}
      },
      "source": [
        "target = data.pop(0)"
      ],
      "execution_count": 0,
      "outputs": []
    },
    {
      "cell_type": "code",
      "metadata": {
        "id": "t1J_HbJRXsbL",
        "colab_type": "code",
        "colab": {}
      },
      "source": [
        "X_train = data[:15000]\n",
        "y_train = target[:15000]"
      ],
      "execution_count": 0,
      "outputs": []
    },
    {
      "cell_type": "code",
      "metadata": {
        "id": "MU_BzSeyX2EP",
        "colab_type": "code",
        "colab": {}
      },
      "source": [
        "X_test = data[15000:]\n",
        "y_test = target[15000:]"
      ],
      "execution_count": 0,
      "outputs": []
    },
    {
      "cell_type": "code",
      "metadata": {
        "id": "HmqzSRA2JUPn",
        "colab_type": "code",
        "colab": {}
      },
      "source": [
        "import tensorflow as tf"
      ],
      "execution_count": 0,
      "outputs": []
    },
    {
      "cell_type": "code",
      "metadata": {
        "id": "QQIO-yFFJjCF",
        "colab_type": "code",
        "colab": {}
      },
      "source": [
        "tf.random.set_seed(8)"
      ],
      "execution_count": 0,
      "outputs": []
    },
    {
      "cell_type": "code",
      "metadata": {
        "id": "Y2grB3hVJWp6",
        "colab_type": "code",
        "colab": {}
      },
      "source": [
        "model = tf.keras.Sequential()"
      ],
      "execution_count": 0,
      "outputs": []
    },
    {
      "cell_type": "code",
      "metadata": {
        "id": "fnvBZ71zJoY5",
        "colab_type": "code",
        "colab": {}
      },
      "source": [
        "from tensorflow.keras.layers import Dense"
      ],
      "execution_count": 0,
      "outputs": []
    },
    {
      "cell_type": "code",
      "metadata": {
        "id": "X6FWoSW9Jykf",
        "colab_type": "code",
        "colab": {}
      },
      "source": [
        "fc1 = Dense(512, input_shape=(16,), activation='relu')"
      ],
      "execution_count": 0,
      "outputs": []
    },
    {
      "cell_type": "code",
      "metadata": {
        "id": "whwQ7LpvJ_T4",
        "colab_type": "code",
        "colab": {}
      },
      "source": [
        "fc2 = Dense(512, activation='relu')"
      ],
      "execution_count": 0,
      "outputs": []
    },
    {
      "cell_type": "code",
      "metadata": {
        "id": "mdDPs3jiL-fq",
        "colab_type": "code",
        "colab": {}
      },
      "source": [
        "fc3 = Dense(128, activation='relu')"
      ],
      "execution_count": 0,
      "outputs": []
    },
    {
      "cell_type": "code",
      "metadata": {
        "id": "5YAcmaDFL-3T",
        "colab_type": "code",
        "colab": {}
      },
      "source": [
        "fc4 = Dense(128, activation='relu')"
      ],
      "execution_count": 0,
      "outputs": []
    },
    {
      "cell_type": "code",
      "metadata": {
        "id": "6XvUYzZFJ_nh",
        "colab_type": "code",
        "colab": {}
      },
      "source": [
        "fc5 = Dense(26, activation='softmax')"
      ],
      "execution_count": 0,
      "outputs": []
    },
    {
      "cell_type": "code",
      "metadata": {
        "id": "tlKy5d30KJ40",
        "colab_type": "code",
        "colab": {}
      },
      "source": [
        "model.add(fc1)\n",
        "model.add(fc2)\n",
        "model.add(fc3)\n",
        "model.add(fc4)\n",
        "model.add(fc5)"
      ],
      "execution_count": 0,
      "outputs": []
    },
    {
      "cell_type": "code",
      "metadata": {
        "id": "5Zqh9c_jKOmB",
        "colab_type": "code",
        "outputId": "8ac3db3c-b5d7-49be-d65b-ebcef276cd51",
        "colab": {
          "base_uri": "https://localhost:8080/",
          "height": 323
        }
      },
      "source": [
        "model.summary()"
      ],
      "execution_count": 0,
      "outputs": [
        {
          "output_type": "stream",
          "text": [
            "Model: \"sequential_1\"\n",
            "_________________________________________________________________\n",
            "Layer (type)                 Output Shape              Param #   \n",
            "=================================================================\n",
            "dense_5 (Dense)              (None, 512)               8704      \n",
            "_________________________________________________________________\n",
            "dense_6 (Dense)              (None, 512)               262656    \n",
            "_________________________________________________________________\n",
            "dense_7 (Dense)              (None, 128)               65664     \n",
            "_________________________________________________________________\n",
            "dense_8 (Dense)              (None, 128)               16512     \n",
            "_________________________________________________________________\n",
            "dense_9 (Dense)              (None, 26)                3354      \n",
            "=================================================================\n",
            "Total params: 356,890\n",
            "Trainable params: 356,890\n",
            "Non-trainable params: 0\n",
            "_________________________________________________________________\n"
          ],
          "name": "stdout"
        }
      ]
    },
    {
      "cell_type": "code",
      "metadata": {
        "id": "cY-MBPFJKTCa",
        "colab_type": "code",
        "colab": {}
      },
      "source": [
        "loss = tf.keras.losses.SparseCategoricalCrossentropy()"
      ],
      "execution_count": 0,
      "outputs": []
    },
    {
      "cell_type": "code",
      "metadata": {
        "id": "P6jKCl9mNCld",
        "colab_type": "code",
        "colab": {}
      },
      "source": [
        "optimizer = tf.keras.optimizers.Adam(0.001)"
      ],
      "execution_count": 0,
      "outputs": []
    },
    {
      "cell_type": "code",
      "metadata": {
        "id": "IPz1teIGKZQw",
        "colab_type": "code",
        "colab": {}
      },
      "source": [
        "model.compile(optimizer=optimizer, loss=loss, metrics=['accuracy'])"
      ],
      "execution_count": 0,
      "outputs": []
    },
    {
      "cell_type": "code",
      "metadata": {
        "id": "8s1dnVl4K1Ns",
        "colab_type": "code",
        "outputId": "d3ceb4cd-1a1a-4194-b310-c73f10271cb0",
        "colab": {
          "base_uri": "https://localhost:8080/",
          "height": 204
        }
      },
      "source": [
        "model.fit(X_train, y_train, epochs=5)"
      ],
      "execution_count": 0,
      "outputs": [
        {
          "output_type": "stream",
          "text": [
            "Epoch 1/5\n",
            "469/469 [==============================] - 2s 5ms/step - loss: 1.2782 - accuracy: 0.6229\n",
            "Epoch 2/5\n",
            "469/469 [==============================] - 2s 5ms/step - loss: 0.5780 - accuracy: 0.8174\n",
            "Epoch 3/5\n",
            "469/469 [==============================] - 2s 5ms/step - loss: 0.4187 - accuracy: 0.8656\n",
            "Epoch 4/5\n",
            "469/469 [==============================] - 2s 5ms/step - loss: 0.3345 - accuracy: 0.8881\n",
            "Epoch 5/5\n",
            "469/469 [==============================] - 2s 5ms/step - loss: 0.2908 - accuracy: 0.9011\n"
          ],
          "name": "stdout"
        },
        {
          "output_type": "execute_result",
          "data": {
            "text/plain": [
              "<tensorflow.python.keras.callbacks.History at 0x7f79dbbe7b00>"
            ]
          },
          "metadata": {
            "tags": []
          },
          "execution_count": 47
        }
      ]
    },
    {
      "cell_type": "code",
      "metadata": {
        "id": "EoYhXWlbMKmz",
        "colab_type": "code",
        "outputId": "382b57ae-0080-4a21-8822-25c2b9d8c789",
        "colab": {
          "base_uri": "https://localhost:8080/",
          "height": 51
        }
      },
      "source": [
        "model.evaluate(X_test, y_test)"
      ],
      "execution_count": 0,
      "outputs": [
        {
          "output_type": "stream",
          "text": [
            "157/157 [==============================] - 0s 2ms/step - loss: 0.3659 - accuracy: 0.8828\n"
          ],
          "name": "stdout"
        },
        {
          "output_type": "execute_result",
          "data": {
            "text/plain": [
              "[0.36592426896095276, 0.8827999830245972]"
            ]
          },
          "metadata": {
            "tags": []
          },
          "execution_count": 48
        }
      ]
    },
    {
      "cell_type": "code",
      "metadata": {
        "id": "vJuPVoHlYwNL",
        "colab_type": "code",
        "colab": {}
      },
      "source": [
        "preds_proba = model.predict(X_test)"
      ],
      "execution_count": 0,
      "outputs": []
    },
    {
      "cell_type": "code",
      "metadata": {
        "id": "IaapyqsIZBAP",
        "colab_type": "code",
        "colab": {}
      },
      "source": [
        "preds = preds_proba.argmax(axis=1)"
      ],
      "execution_count": 0,
      "outputs": []
    },
    {
      "cell_type": "code",
      "metadata": {
        "id": "WuMnJY4gYvG3",
        "colab_type": "code",
        "colab": {}
      },
      "source": [
        "from tensorflow.math import confusion_matrix"
      ],
      "execution_count": 0,
      "outputs": []
    },
    {
      "cell_type": "code",
      "metadata": {
        "id": "_dvbGjLEY53b",
        "colab_type": "code",
        "outputId": "f6eb7b8e-388f-4ffa-e6d2-81704059e332",
        "colab": {
          "base_uri": "https://localhost:8080/",
          "height": 935
        }
      },
      "source": [
        "confusion_matrix(y_test, preds)"
      ],
      "execution_count": 0,
      "outputs": [
        {
          "output_type": "execute_result",
          "data": {
            "text/plain": [
              "<tf.Tensor: shape=(26, 26), dtype=int32, numpy=\n",
              "array([[165,   1,   0,   0,   0,   1,   0,   0,   0,   0,   2,   0,   0,\n",
              "          9,   0,   0,   0,   3,   0,   1,   0,   1,   0,   0,   1,   0],\n",
              "       [  0, 187,   1,   0,   0,   1,   0,   0,   8,   0,   2,   0,   0,\n",
              "          1,   0,   0,   0,   1,   1,   2,   0,   0,   0,   0,   0,   1],\n",
              "       [  0,   0, 182,   0,   0,   1,  18,   0,   0,   0,   0,   2,   0,\n",
              "          0,   0,   8,   0,   0,   2,   1,   0,   0,   2,   0,   0,   0],\n",
              "       [  0,   0,   3, 175,   1,   0,   0,   0,   0,   4,   0,   4,   4,\n",
              "          0,   0,   3,   0,   2,   0,   0,   0,   0,   0,   1,   1,   0],\n",
              "       [  0,   3,   1,   0, 179,   0,   3,   0,   0,   1,   0,   1,   2,\n",
              "          1,   3,   0,   2,   1,   0,   6,   0,   0,   0,   0,   5,   0],\n",
              "       [  0,   1,   0,   0,   0, 142,   0,   0,   2,   0,   1,   0,   0,\n",
              "          2,   0,   0,   0,   2,   0,   6,   0,   0,   6,   0,   0,  36],\n",
              "       [  1,   0,   1,   0,   0,   1, 157,   0,   0,   0,   1,   0,   8,\n",
              "          0,   0,   0,   0,   0,   0,   1,   2,   0,   0,   0,   1,   0],\n",
              "       [  0,   0,   1,   0,   0,   3,   2, 196,   0,   0,   0,   0,   0,\n",
              "          0,   0,   0,   0,   0,   0,   0,   0,   1,   0,   0,   2,   1],\n",
              "       [  0,   5,   2,   0,   0,   6,   0,   0, 164,   0,   2,   1,   0,\n",
              "          0,   0,   1,   0,   2,   0,   0,   0,   0,   0,   0,   0,   0],\n",
              "       [  0,   0,   0,   1,   0,   0,   0,   0,   0, 180,   0,   0,   1,\n",
              "          0,   0,   0,   4,   0,   0,   0,   0,   0,   0,   1,   0,   0],\n",
              "       [  0,   0,   0,   0,   0,   0,   0,   0,   1,   0, 181,   0,   0,\n",
              "          0,   0,   0,   0,   0,   0,   2,   0,   0,   0,   0,   2,   0],\n",
              "       [  0,   0,   2,   0,  23,   1,   0,   0,   0,   0,   0, 133,   1,\n",
              "          0,   1,   0,   4,   0,   1,   2,   0,   0,  13,   0,   0,   0],\n",
              "       [  1,   0,   0,   2,   0,   3,  30,   0,   0,   0,   0,   0, 142,\n",
              "          0,   1,   7,   0,   4,   0,   9,   0,   0,   0,   0,   9,   0],\n",
              "       [  0,   1,   0,   1,   0,   0,   0,   1,   1,   0,   3,   0,   0,\n",
              "        168,   0,   0,   1,   0,  15,   3,   0,   0,   0,   0,   0,   0],\n",
              "       [  1,   0,   0,   0,  14,   0,   0,   0,   0,   0,   0,   0,   0,\n",
              "          0, 150,   0,   0,   1,   0,   4,   0,   0,   0,   0,   1,   0],\n",
              "       [  0,   0,   4,   0,   3,   0,   1,   0,   0,   0,   1,   0,   7,\n",
              "          0,   0, 143,   0,   2,   0,   4,   0,   0,   0,   0,  13,   0],\n",
              "       [  0,   0,   0,   1,   1,   0,   0,   0,   0,   0,   0,   0,   1,\n",
              "          0,   0,   0, 163,   0,   0,   0,   0,   0,   0,   0,   1,   0],\n",
              "       [  0,   0,   0,   0,   0,   0,   0,   0,   0,   0,   6,   0,   1,\n",
              "          0,   0,   0,   0, 194,   0,   2,   0,   0,   1,   0,   1,   0],\n",
              "       [  0,   1,   1,   0,   0,   0,   3,   0,   0,   0,   0,   0,   0,\n",
              "          6,   0,   1,   0,   0, 193,   0,   0,   0,   1,   0,   1,   0],\n",
              "       [  0,   0,   0,   0,   0,   0,   0,   0,   0,   0,   1,   0,   0,\n",
              "          0,   5,   0,   0,   1,   0, 170,   0,   0,   0,   0,   2,  12],\n",
              "       [  1,   0,   1,   0,   1,   0,   0,   2,   0,   0,   0,   0,   2,\n",
              "          0,   0,   0,  13,   0,   1,   0, 147,   0,   0,   0,   0,   0],\n",
              "       [  4,   0,   0,   0,   0,   0,   0,   0,   0,   0,   2,   0,   0,\n",
              "          0,   0,   1,   0,   0,   6,   0,  21, 143,   5,   1,   0,   0],\n",
              "       [  0,   0,   1,   0,   9,   0,   0,   1,   0,   0,   0,   0,   0,\n",
              "          0,   0,   0,   0,   0,   1,   2,   0,   0, 201,   0,   2,   0],\n",
              "       [  1,   0,   0,   0,   1,   0,   0,   0,   0,   1,   0,   2,   0,\n",
              "          0,   1,   2,   0,   0,   0,   0,   0,   0,   0, 206,   1,   0],\n",
              "       [  0,   0,   0,   0,   0,   0,   0,   0,   0,   0,   5,   0,   6,\n",
              "          0,   0,   0,   0,   0,   0,   1,   0,   0,   0,   0, 165,   0],\n",
              "       [  0,   0,   0,   0,   0,   1,   0,   0,   3,   0,   0,   0,   0,\n",
              "          0,   0,   0,   0,   0,   0,   0,   0,   0,   2,   0,   0, 188]],\n",
              "      dtype=int32)>"
            ]
          },
          "metadata": {
            "tags": []
          },
          "execution_count": 54
        }
      ]
    }
  ]
}