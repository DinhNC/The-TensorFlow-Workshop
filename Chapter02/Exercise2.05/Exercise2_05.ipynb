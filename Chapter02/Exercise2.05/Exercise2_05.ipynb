{
 "cells": [
  {
   "cell_type": "markdown",
   "metadata": {},
   "source": [
    "# Exercise 2.05"
   ]
  },
  {
   "cell_type": "code",
   "execution_count": 1,
   "metadata": {},
   "outputs": [],
   "source": [
    "import tensorflow as tf\n",
    "import os"
   ]
  },
  {
   "cell_type": "code",
   "execution_count": 2,
   "metadata": {},
   "outputs": [],
   "source": [
    "def load_audio(file_path, sample_rate=44100):\n",
    "    # Load audio at 44.1kHz sample-rate\n",
    "    audio = tf.io.read_file(file_path)\n",
    "    audio, sample_rate = tf.audio.decode_wav(audio,\n",
    "                                             desired_channels=-1,\n",
    "                                             desired_samples=sample_rate)\n",
    "    return tf.transpose(audio)"
   ]
  },
  {
   "cell_type": "code",
   "execution_count": 3,
   "metadata": {},
   "outputs": [],
   "source": [
    "prefix = \"../Datasets/data_speech_commands_v0.02/zero/\"\n",
    "paths = [os.path.join(prefix, path) for path in os.listdir(prefix)]"
   ]
  },
  {
   "cell_type": "code",
   "execution_count": 4,
   "metadata": {},
   "outputs": [
    {
     "data": {
      "text/plain": [
       "[<matplotlib.lines.Line2D at 0x140a81dd8>]"
      ]
     },
     "execution_count": 4,
     "metadata": {},
     "output_type": "execute_result"
    },
    {
     "data": {
      "image/png": "[encoded data removed]",
      "text/plain": [
       "<Figure size 432x288 with 1 Axes>"
      ]
     },
     "metadata": {
      "needs_background": "light"
     },
     "output_type": "display_data"
    }
   ],
   "source": [
    "import matplotlib.pyplot as plt\n",
    "audio = load_audio(paths[0])\n",
    "plt.plot(audio.numpy().T)"
   ]
  },
  {
   "cell_type": "code",
   "execution_count": 5,
   "metadata": {},
   "outputs": [],
   "source": [
    "def apply_mfccs(audio, sample_rate=44100, num_mfccs=13):\n",
    "    stfts = tf.signal.stft(audio, frame_length=1024, frame_step=256,\n",
    "                           fft_length=1024)\n",
    "    spectrograms = tf.abs(stfts)\n",
    "    num_spectrogram_bins = stfts.shape[-1]#.value\n",
    "    \n",
    "    lower_edge_hertz, upper_edge_hertz, num_mel_bins = 80.0, 7600.0, 80\n",
    "    linear_to_mel_weight_matrix = tf.signal.linear_to_mel_weight_matrix(\n",
    "      num_mel_bins, num_spectrogram_bins, sample_rate, lower_edge_hertz,\n",
    "      upper_edge_hertz)\n",
    "    mel_spectrograms = tf.tensordot(\n",
    "      spectrograms, linear_to_mel_weight_matrix, 1)\n",
    "    \n",
    "    mel_spectrograms.set_shape(spectrograms.shape[:-1].concatenate(\n",
    "      linear_to_mel_weight_matrix.shape[-1:]))\n",
    "\n",
    "    # Compute a stabilized log to get log-magnitude mel-scale spectrograms.\n",
    "    log_mel_spectrograms = tf.math.log(mel_spectrograms + 1e-6)\n",
    "\n",
    "    # Compute MFCCs from log_mel_spectrograms and take the first 13.\n",
    "    mfccs = tf.signal.mfccs_from_log_mel_spectrograms(\n",
    "      log_mel_spectrograms)[..., :num_mfccs]\n",
    "    return mfccs"
   ]
  },
  {
   "cell_type": "code",
   "execution_count": 6,
   "metadata": {},
   "outputs": [
    {
     "data": {
      "text/plain": [
       "<matplotlib.collections.PolyCollection at 0x12db70518>"
      ]
     },
     "execution_count": 6,
     "metadata": {},
     "output_type": "execute_result"
    },
    {
     "data": {
      "image/png": "[encoded data removed]",
      "text/plain": [
       "<Figure size 432x288 with 1 Axes>"
      ]
     },
     "metadata": {
      "needs_background": "light"
     },
     "output_type": "display_data"
    }
   ],
   "source": [
    "mfcc = apply_mfccs(audio)\n",
    "plt.pcolor(mfcc.numpy()[0])"
   ]
  },
  {
   "cell_type": "code",
   "execution_count": 7,
   "metadata": {},
   "outputs": [],
   "source": [
    "AUTOTUNE = tf.data.experimental.AUTOTUNE\n",
    "\n",
    "def prep_ds(ds, shuffle_buffer_size=1024, batch_size=64):\n",
    "    # Randomly shuffle (file_path, label) dataset\n",
    "    ds = ds.shuffle(buffer_size=shuffle_buffer_size)\n",
    "    # Load and decode audio from file paths\n",
    "    ds = ds.map(load_audio, num_parallel_calls=AUTOTUNE)\n",
    "    # generayte MFCCs from the audio data\n",
    "    ds = ds.map(apply_mfccs)\n",
    "    # Repeat dataset forever\n",
    "    ds = ds.repeat()\n",
    "    # Prepare batches\n",
    "    ds = ds.batch(batch_size)\n",
    "    # Prefetch\n",
    "    ds = ds.prefetch(buffer_size=AUTOTUNE)\n",
    "\n",
    "    return ds"
   ]
  },
  {
   "cell_type": "code",
   "execution_count": 8,
   "metadata": {},
   "outputs": [],
   "source": [
    "ds = tf.data.Dataset.from_tensor_slices(paths)\n",
    "train_ds = prep_ds(ds)"
   ]
  },
  {
   "cell_type": "markdown",
   "metadata": {},
   "source": [
    "Take 1 batch and print it out"
   ]
  },
  {
   "cell_type": "code",
   "execution_count": 9,
   "metadata": {},
   "outputs": [
    {
     "name": "stdout",
     "output_type": "stream",
     "text": [
      "tf.Tensor(\n",
      "[[[[-1.63207493e+01 -1.30399179e+00  3.63255572e+00 ... -8.81270349e-01\n",
      "    -1.04995263e+00 -2.28330684e+00]\n",
      "   [-2.37950077e+01 -1.39360023e+00  2.16576815e+00 ...  3.57407719e-01\n",
      "    -1.27397525e+00 -1.74753749e+00]\n",
      "   [-2.42810955e+01  7.08627403e-01  1.58718014e+00 ...  3.52883101e-01\n",
      "    -1.58700347e+00 -2.59117913e+00]\n",
      "   ...\n",
      "   [-1.74754272e+02 -7.82595671e-05  8.29657256e-06 ...  8.80490370e-06\n",
      "     6.48393325e-06 -2.29595958e-06]\n",
      "   [-1.74754272e+02 -7.82595671e-05  8.29657256e-06 ...  8.80490370e-06\n",
      "     6.48393325e-06 -2.29595958e-06]\n",
      "   [-1.74754272e+02 -7.82595671e-05  8.29657256e-06 ...  8.80490370e-06\n",
      "     6.48393325e-06 -2.29595958e-06]]]\n",
      "\n",
      "\n",
      " [[[-4.29330063e+01 -6.88680458e+00 -2.16700935e+00 ...  6.69247866e-01\n",
      "     7.86118269e-01  9.28699225e-02]\n",
      "   [-4.36671753e+01 -7.72747707e+00 -2.73828793e+00 ...  1.42105818e+00\n",
      "     4.28844780e-01 -7.35874116e-01]\n",
      "   [-4.31410255e+01 -6.36055565e+00 -1.90095127e+00 ...  1.94981694e+00\n",
      "     8.23285401e-01 -5.33023059e-01]\n",
      "   ...\n",
      "   [-1.74754272e+02 -7.82595671e-05  8.29657256e-06 ...  8.80490370e-06\n",
      "     6.48393325e-06 -2.29595958e-06]\n",
      "   [-1.74754272e+02 -7.82595671e-05  8.29657256e-06 ...  8.80490370e-06\n",
      "     6.48393325e-06 -2.29595958e-06]\n",
      "   [-1.74754272e+02 -7.82595671e-05  8.29657256e-06 ...  8.80490370e-06\n",
      "     6.48393325e-06 -2.29595958e-06]]]\n",
      "\n",
      "\n",
      " [[[-4.50612259e+01 -2.86880183e+00  1.68705392e+00 ...  3.23058665e-01\n",
      "    -4.02688116e-01  7.14635253e-01]\n",
      "   [-4.02112770e+01 -7.28354025e+00  4.39324188e+00 ...  8.59114110e-01\n",
      "    -9.74723995e-01 -5.61738387e-02]\n",
      "   [-3.56685638e+01 -1.17118816e+01  6.34574223e+00 ...  8.69856536e-01\n",
      "    -1.31849468e+00 -1.50761664e+00]\n",
      "   ...\n",
      "   [-1.74754272e+02 -7.82595671e-05  8.29657256e-06 ...  8.80490370e-06\n",
      "     6.48393325e-06 -2.29595958e-06]\n",
      "   [-1.74754272e+02 -7.82595671e-05  8.29657256e-06 ...  8.80490370e-06\n",
      "     6.48393325e-06 -2.29595958e-06]\n",
      "   [-1.74754272e+02 -7.82595671e-05  8.29657256e-06 ...  8.80490370e-06\n",
      "     6.48393325e-06 -2.29595958e-06]]]\n",
      "\n",
      "\n",
      " ...\n",
      "\n",
      "\n",
      " [[[-3.82467499e+01 -1.06867754e+00 -2.47303772e+00 ... -7.45924592e-01\n",
      "    -5.89027047e-01 -9.98017192e-01]\n",
      "   [-3.63606186e+01 -7.23691344e-01 -3.36614180e+00 ... -5.35170436e-01\n",
      "     1.05423100e-01 -9.08910334e-01]\n",
      "   [-3.06702862e+01  3.03870749e+00 -3.98429418e+00 ... -4.23884213e-01\n",
      "     5.53806782e-01 -9.02842164e-01]\n",
      "   ...\n",
      "   [-1.74754272e+02 -7.82595671e-05  8.29657256e-06 ...  8.80490370e-06\n",
      "     6.48393325e-06 -2.29595958e-06]\n",
      "   [-1.74754272e+02 -7.82595671e-05  8.29657256e-06 ...  8.80490370e-06\n",
      "     6.48393325e-06 -2.29595958e-06]\n",
      "   [-1.74754272e+02 -7.82595671e-05  8.29657256e-06 ...  8.80490370e-06\n",
      "     6.48393325e-06 -2.29595958e-06]]]\n",
      "\n",
      "\n",
      " [[[-6.53264542e+01  1.19997215e+00  2.88999677e+00 ... -1.00800775e-01\n",
      "    -1.39236617e+00 -1.85431826e+00]\n",
      "   [-7.20510483e+01  8.83804142e-01  1.36892676e+00 ... -5.20524025e-01\n",
      "    -9.36707258e-01 -1.33853304e+00]\n",
      "   [-7.21607819e+01 -1.96709201e-01  8.70469987e-01 ...  1.21227354e-01\n",
      "     6.83601126e-02 -1.54605639e+00]\n",
      "   ...\n",
      "   [-1.74754272e+02 -7.82595671e-05  8.29657256e-06 ...  8.80490370e-06\n",
      "     6.48393325e-06 -2.29595958e-06]\n",
      "   [-1.74754272e+02 -7.82595671e-05  8.29657256e-06 ...  8.80490370e-06\n",
      "     6.48393325e-06 -2.29595958e-06]\n",
      "   [-1.74754272e+02 -7.82595671e-05  8.29657256e-06 ...  8.80490370e-06\n",
      "     6.48393325e-06 -2.29595958e-06]]]\n",
      "\n",
      "\n",
      " [[[-4.56453476e+01 -2.00842113e+01 -2.41436410e+00 ...  4.36143845e-01\n",
      "     1.96821496e-01 -3.27112406e-01]\n",
      "   [-4.82579041e+01 -1.81022873e+01 -2.97752595e+00 ...  6.53418481e-01\n",
      "    -3.47899288e-01 -3.97843450e-01]\n",
      "   [-5.26148682e+01 -1.72436142e+01 -2.77226996e+00 ...  1.31729352e+00\n",
      "     3.08554381e-01 -1.06209779e+00]\n",
      "   ...\n",
      "   [-1.74754272e+02 -7.82595671e-05  8.29657256e-06 ...  8.80490370e-06\n",
      "     6.48393325e-06 -2.29595958e-06]\n",
      "   [-1.74754272e+02 -7.82595671e-05  8.29657256e-06 ...  8.80490370e-06\n",
      "     6.48393325e-06 -2.29595958e-06]\n",
      "   [-1.74754272e+02 -7.82595671e-05  8.29657256e-06 ...  8.80490370e-06\n",
      "     6.48393325e-06 -2.29595958e-06]]]], shape=(64, 1, 169, 13), dtype=float32)\n"
     ]
    }
   ],
   "source": [
    "for x in train_ds.take(1):\n",
    "    print(x)"
   ]
  }
 ],
 "metadata": {
  "kernelspec": {
   "display_name": "tf2.1",
   "language": "python",
   "name": "tf2.1"
  },
  "language_info": {
   "codemirror_mode": {
    "name": "ipython",
    "version": 3
   },
   "file_extension": ".py",
   "mimetype": "text/x-python",
   "name": "python",
   "nbconvert_exporter": "python",
   "pygments_lexer": "ipython3",
   "version": "3.7.2"
  }
 },
 "nbformat": 4,
 "nbformat_minor": 4
}
